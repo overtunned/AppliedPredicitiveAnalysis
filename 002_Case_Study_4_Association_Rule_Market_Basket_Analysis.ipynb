{
 "cells": [
  {
   "cell_type": "code",
   "execution_count": 35,
   "id": "0624e3ae",
   "metadata": {},
   "outputs": [],
   "source": [
    "import numpy as np\n",
    "import matplotlib.pyplot as plt\n",
    "import pandas as pd\n",
    "import plotly.graph_objects as go\n",
    "import seaborn as sns\n",
    "import plotly.express as px\n",
    "%matplotlib inline"
   ]
  },
  {
   "cell_type": "code",
   "execution_count": 150,
   "id": "c7ca5eda",
   "metadata": {},
   "outputs": [],
   "source": [
    "from efficient_apriori import apriori"
   ]
  },
  {
   "cell_type": "code",
   "execution_count": 215,
   "id": "e57cea78",
   "metadata": {},
   "outputs": [
    {
     "data": {
      "text/html": [
       "<div>\n",
       "<style scoped>\n",
       "    .dataframe tbody tr th:only-of-type {\n",
       "        vertical-align: middle;\n",
       "    }\n",
       "\n",
       "    .dataframe tbody tr th {\n",
       "        vertical-align: top;\n",
       "    }\n",
       "\n",
       "    .dataframe thead th {\n",
       "        text-align: right;\n",
       "    }\n",
       "</style>\n",
       "<table border=\"1\" class=\"dataframe\">\n",
       "  <thead>\n",
       "    <tr style=\"text-align: right;\">\n",
       "      <th></th>\n",
       "      <th>Member_number</th>\n",
       "      <th>Date</th>\n",
       "      <th>itemDescription</th>\n",
       "    </tr>\n",
       "  </thead>\n",
       "  <tbody>\n",
       "    <tr>\n",
       "      <th>0</th>\n",
       "      <td>1808</td>\n",
       "      <td>21-07-2015</td>\n",
       "      <td>tropical fruit</td>\n",
       "    </tr>\n",
       "    <tr>\n",
       "      <th>1</th>\n",
       "      <td>2552</td>\n",
       "      <td>05-01-2015</td>\n",
       "      <td>whole milk</td>\n",
       "    </tr>\n",
       "    <tr>\n",
       "      <th>2</th>\n",
       "      <td>2300</td>\n",
       "      <td>19-09-2015</td>\n",
       "      <td>pip fruit</td>\n",
       "    </tr>\n",
       "    <tr>\n",
       "      <th>3</th>\n",
       "      <td>1187</td>\n",
       "      <td>12-12-2015</td>\n",
       "      <td>other vegetables</td>\n",
       "    </tr>\n",
       "    <tr>\n",
       "      <th>4</th>\n",
       "      <td>3037</td>\n",
       "      <td>01-02-2015</td>\n",
       "      <td>whole milk</td>\n",
       "    </tr>\n",
       "  </tbody>\n",
       "</table>\n",
       "</div>"
      ],
      "text/plain": [
       "   Member_number        Date   itemDescription\n",
       "0           1808  21-07-2015    tropical fruit\n",
       "1           2552  05-01-2015        whole milk\n",
       "2           2300  19-09-2015         pip fruit\n",
       "3           1187  12-12-2015  other vegetables\n",
       "4           3037  01-02-2015        whole milk"
      ]
     },
     "execution_count": 215,
     "metadata": {},
     "output_type": "execute_result"
    }
   ],
   "source": [
    "trans = pd.read_csv('https://raw.githubusercontent.com/overtunned/AppliedPredicitiveAnalysis/main/Case%20study%20dataset/Groceries_dataset.csv')\n",
    "trans.head()"
   ]
  },
  {
   "cell_type": "code",
   "execution_count": 216,
   "id": "cbbac4ab",
   "metadata": {},
   "outputs": [
    {
     "data": {
      "text/plain": [
       "Member_number      0\n",
       "Date               0\n",
       "itemDescription    0\n",
       "dtype: int64"
      ]
     },
     "execution_count": 216,
     "metadata": {},
     "output_type": "execute_result"
    }
   ],
   "source": [
    "# Checking for null values\n",
    "trans.isnull().sum()"
   ]
  },
  {
   "cell_type": "code",
   "execution_count": 217,
   "id": "d20f1400",
   "metadata": {},
   "outputs": [
    {
     "name": "stdout",
     "output_type": "stream",
     "text": [
      "Total products: 167\n"
     ]
    }
   ],
   "source": [
    "all_products = trans['itemDescription'].unique()\n",
    "print(\"Total products: {}\".format(len(all_products)))"
   ]
  },
  {
   "cell_type": "code",
   "execution_count": 218,
   "id": "d59c81cd",
   "metadata": {
    "code_folding": [
     0
    ]
   },
   "outputs": [],
   "source": [
    "def ditribution_plot(x,y,name=None,xaxis=None,yaxis=None):\n",
    "    fig = go.Figure([\n",
    "        go.Bar(x=x, y=y)\n",
    "    ])\n",
    "\n",
    "    fig.update_layout(\n",
    "        title_text=name,\n",
    "        xaxis_title=xaxis,\n",
    "        yaxis_title=yaxis\n",
    "    )\n",
    "    fig.show()"
   ]
  },
  {
   "cell_type": "code",
   "execution_count": 219,
   "id": "3a2f30ca",
   "metadata": {},
   "outputs": [
    {
     "data": {
      "application/vnd.plotly.v1+json": {
       "config": {
        "plotlyServerURL": "https://plot.ly"
       },
       "data": [
        {
         "type": "bar",
         "x": [
          "whole milk",
          "other vegetables",
          "rolls/buns",
          "soda",
          "yogurt",
          "root vegetables",
          "tropical fruit",
          "bottled water",
          "sausage",
          "citrus fruit"
         ],
         "y": [
          2502,
          1898,
          1716,
          1514,
          1334,
          1071,
          1032,
          933,
          924,
          812
         ]
        }
       ],
       "layout": {
        "template": {
         "data": {
          "bar": [
           {
            "error_x": {
             "color": "#2a3f5f"
            },
            "error_y": {
             "color": "#2a3f5f"
            },
            "marker": {
             "line": {
              "color": "#E5ECF6",
              "width": 0.5
             }
            },
            "type": "bar"
           }
          ],
          "barpolar": [
           {
            "marker": {
             "line": {
              "color": "#E5ECF6",
              "width": 0.5
             }
            },
            "type": "barpolar"
           }
          ],
          "carpet": [
           {
            "aaxis": {
             "endlinecolor": "#2a3f5f",
             "gridcolor": "white",
             "linecolor": "white",
             "minorgridcolor": "white",
             "startlinecolor": "#2a3f5f"
            },
            "baxis": {
             "endlinecolor": "#2a3f5f",
             "gridcolor": "white",
             "linecolor": "white",
             "minorgridcolor": "white",
             "startlinecolor": "#2a3f5f"
            },
            "type": "carpet"
           }
          ],
          "choropleth": [
           {
            "colorbar": {
             "outlinewidth": 0,
             "ticks": ""
            },
            "type": "choropleth"
           }
          ],
          "contour": [
           {
            "colorbar": {
             "outlinewidth": 0,
             "ticks": ""
            },
            "colorscale": [
             [
              0,
              "#0d0887"
             ],
             [
              0.1111111111111111,
              "#46039f"
             ],
             [
              0.2222222222222222,
              "#7201a8"
             ],
             [
              0.3333333333333333,
              "#9c179e"
             ],
             [
              0.4444444444444444,
              "#bd3786"
             ],
             [
              0.5555555555555556,
              "#d8576b"
             ],
             [
              0.6666666666666666,
              "#ed7953"
             ],
             [
              0.7777777777777778,
              "#fb9f3a"
             ],
             [
              0.8888888888888888,
              "#fdca26"
             ],
             [
              1,
              "#f0f921"
             ]
            ],
            "type": "contour"
           }
          ],
          "contourcarpet": [
           {
            "colorbar": {
             "outlinewidth": 0,
             "ticks": ""
            },
            "type": "contourcarpet"
           }
          ],
          "heatmap": [
           {
            "colorbar": {
             "outlinewidth": 0,
             "ticks": ""
            },
            "colorscale": [
             [
              0,
              "#0d0887"
             ],
             [
              0.1111111111111111,
              "#46039f"
             ],
             [
              0.2222222222222222,
              "#7201a8"
             ],
             [
              0.3333333333333333,
              "#9c179e"
             ],
             [
              0.4444444444444444,
              "#bd3786"
             ],
             [
              0.5555555555555556,
              "#d8576b"
             ],
             [
              0.6666666666666666,
              "#ed7953"
             ],
             [
              0.7777777777777778,
              "#fb9f3a"
             ],
             [
              0.8888888888888888,
              "#fdca26"
             ],
             [
              1,
              "#f0f921"
             ]
            ],
            "type": "heatmap"
           }
          ],
          "heatmapgl": [
           {
            "colorbar": {
             "outlinewidth": 0,
             "ticks": ""
            },
            "colorscale": [
             [
              0,
              "#0d0887"
             ],
             [
              0.1111111111111111,
              "#46039f"
             ],
             [
              0.2222222222222222,
              "#7201a8"
             ],
             [
              0.3333333333333333,
              "#9c179e"
             ],
             [
              0.4444444444444444,
              "#bd3786"
             ],
             [
              0.5555555555555556,
              "#d8576b"
             ],
             [
              0.6666666666666666,
              "#ed7953"
             ],
             [
              0.7777777777777778,
              "#fb9f3a"
             ],
             [
              0.8888888888888888,
              "#fdca26"
             ],
             [
              1,
              "#f0f921"
             ]
            ],
            "type": "heatmapgl"
           }
          ],
          "histogram": [
           {
            "marker": {
             "colorbar": {
              "outlinewidth": 0,
              "ticks": ""
             }
            },
            "type": "histogram"
           }
          ],
          "histogram2d": [
           {
            "colorbar": {
             "outlinewidth": 0,
             "ticks": ""
            },
            "colorscale": [
             [
              0,
              "#0d0887"
             ],
             [
              0.1111111111111111,
              "#46039f"
             ],
             [
              0.2222222222222222,
              "#7201a8"
             ],
             [
              0.3333333333333333,
              "#9c179e"
             ],
             [
              0.4444444444444444,
              "#bd3786"
             ],
             [
              0.5555555555555556,
              "#d8576b"
             ],
             [
              0.6666666666666666,
              "#ed7953"
             ],
             [
              0.7777777777777778,
              "#fb9f3a"
             ],
             [
              0.8888888888888888,
              "#fdca26"
             ],
             [
              1,
              "#f0f921"
             ]
            ],
            "type": "histogram2d"
           }
          ],
          "histogram2dcontour": [
           {
            "colorbar": {
             "outlinewidth": 0,
             "ticks": ""
            },
            "colorscale": [
             [
              0,
              "#0d0887"
             ],
             [
              0.1111111111111111,
              "#46039f"
             ],
             [
              0.2222222222222222,
              "#7201a8"
             ],
             [
              0.3333333333333333,
              "#9c179e"
             ],
             [
              0.4444444444444444,
              "#bd3786"
             ],
             [
              0.5555555555555556,
              "#d8576b"
             ],
             [
              0.6666666666666666,
              "#ed7953"
             ],
             [
              0.7777777777777778,
              "#fb9f3a"
             ],
             [
              0.8888888888888888,
              "#fdca26"
             ],
             [
              1,
              "#f0f921"
             ]
            ],
            "type": "histogram2dcontour"
           }
          ],
          "mesh3d": [
           {
            "colorbar": {
             "outlinewidth": 0,
             "ticks": ""
            },
            "type": "mesh3d"
           }
          ],
          "parcoords": [
           {
            "line": {
             "colorbar": {
              "outlinewidth": 0,
              "ticks": ""
             }
            },
            "type": "parcoords"
           }
          ],
          "pie": [
           {
            "automargin": true,
            "type": "pie"
           }
          ],
          "scatter": [
           {
            "marker": {
             "colorbar": {
              "outlinewidth": 0,
              "ticks": ""
             }
            },
            "type": "scatter"
           }
          ],
          "scatter3d": [
           {
            "line": {
             "colorbar": {
              "outlinewidth": 0,
              "ticks": ""
             }
            },
            "marker": {
             "colorbar": {
              "outlinewidth": 0,
              "ticks": ""
             }
            },
            "type": "scatter3d"
           }
          ],
          "scattercarpet": [
           {
            "marker": {
             "colorbar": {
              "outlinewidth": 0,
              "ticks": ""
             }
            },
            "type": "scattercarpet"
           }
          ],
          "scattergeo": [
           {
            "marker": {
             "colorbar": {
              "outlinewidth": 0,
              "ticks": ""
             }
            },
            "type": "scattergeo"
           }
          ],
          "scattergl": [
           {
            "marker": {
             "colorbar": {
              "outlinewidth": 0,
              "ticks": ""
             }
            },
            "type": "scattergl"
           }
          ],
          "scattermapbox": [
           {
            "marker": {
             "colorbar": {
              "outlinewidth": 0,
              "ticks": ""
             }
            },
            "type": "scattermapbox"
           }
          ],
          "scatterpolar": [
           {
            "marker": {
             "colorbar": {
              "outlinewidth": 0,
              "ticks": ""
             }
            },
            "type": "scatterpolar"
           }
          ],
          "scatterpolargl": [
           {
            "marker": {
             "colorbar": {
              "outlinewidth": 0,
              "ticks": ""
             }
            },
            "type": "scatterpolargl"
           }
          ],
          "scatterternary": [
           {
            "marker": {
             "colorbar": {
              "outlinewidth": 0,
              "ticks": ""
             }
            },
            "type": "scatterternary"
           }
          ],
          "surface": [
           {
            "colorbar": {
             "outlinewidth": 0,
             "ticks": ""
            },
            "colorscale": [
             [
              0,
              "#0d0887"
             ],
             [
              0.1111111111111111,
              "#46039f"
             ],
             [
              0.2222222222222222,
              "#7201a8"
             ],
             [
              0.3333333333333333,
              "#9c179e"
             ],
             [
              0.4444444444444444,
              "#bd3786"
             ],
             [
              0.5555555555555556,
              "#d8576b"
             ],
             [
              0.6666666666666666,
              "#ed7953"
             ],
             [
              0.7777777777777778,
              "#fb9f3a"
             ],
             [
              0.8888888888888888,
              "#fdca26"
             ],
             [
              1,
              "#f0f921"
             ]
            ],
            "type": "surface"
           }
          ],
          "table": [
           {
            "cells": {
             "fill": {
              "color": "#EBF0F8"
             },
             "line": {
              "color": "white"
             }
            },
            "header": {
             "fill": {
              "color": "#C8D4E3"
             },
             "line": {
              "color": "white"
             }
            },
            "type": "table"
           }
          ]
         },
         "layout": {
          "annotationdefaults": {
           "arrowcolor": "#2a3f5f",
           "arrowhead": 0,
           "arrowwidth": 1
          },
          "autotypenumbers": "strict",
          "coloraxis": {
           "colorbar": {
            "outlinewidth": 0,
            "ticks": ""
           }
          },
          "colorscale": {
           "diverging": [
            [
             0,
             "#8e0152"
            ],
            [
             0.1,
             "#c51b7d"
            ],
            [
             0.2,
             "#de77ae"
            ],
            [
             0.3,
             "#f1b6da"
            ],
            [
             0.4,
             "#fde0ef"
            ],
            [
             0.5,
             "#f7f7f7"
            ],
            [
             0.6,
             "#e6f5d0"
            ],
            [
             0.7,
             "#b8e186"
            ],
            [
             0.8,
             "#7fbc41"
            ],
            [
             0.9,
             "#4d9221"
            ],
            [
             1,
             "#276419"
            ]
           ],
           "sequential": [
            [
             0,
             "#0d0887"
            ],
            [
             0.1111111111111111,
             "#46039f"
            ],
            [
             0.2222222222222222,
             "#7201a8"
            ],
            [
             0.3333333333333333,
             "#9c179e"
            ],
            [
             0.4444444444444444,
             "#bd3786"
            ],
            [
             0.5555555555555556,
             "#d8576b"
            ],
            [
             0.6666666666666666,
             "#ed7953"
            ],
            [
             0.7777777777777778,
             "#fb9f3a"
            ],
            [
             0.8888888888888888,
             "#fdca26"
            ],
            [
             1,
             "#f0f921"
            ]
           ],
           "sequentialminus": [
            [
             0,
             "#0d0887"
            ],
            [
             0.1111111111111111,
             "#46039f"
            ],
            [
             0.2222222222222222,
             "#7201a8"
            ],
            [
             0.3333333333333333,
             "#9c179e"
            ],
            [
             0.4444444444444444,
             "#bd3786"
            ],
            [
             0.5555555555555556,
             "#d8576b"
            ],
            [
             0.6666666666666666,
             "#ed7953"
            ],
            [
             0.7777777777777778,
             "#fb9f3a"
            ],
            [
             0.8888888888888888,
             "#fdca26"
            ],
            [
             1,
             "#f0f921"
            ]
           ]
          },
          "colorway": [
           "#636efa",
           "#EF553B",
           "#00cc96",
           "#ab63fa",
           "#FFA15A",
           "#19d3f3",
           "#FF6692",
           "#B6E880",
           "#FF97FF",
           "#FECB52"
          ],
          "font": {
           "color": "#2a3f5f"
          },
          "geo": {
           "bgcolor": "white",
           "lakecolor": "white",
           "landcolor": "#E5ECF6",
           "showlakes": true,
           "showland": true,
           "subunitcolor": "white"
          },
          "hoverlabel": {
           "align": "left"
          },
          "hovermode": "closest",
          "mapbox": {
           "style": "light"
          },
          "paper_bgcolor": "white",
          "plot_bgcolor": "#E5ECF6",
          "polar": {
           "angularaxis": {
            "gridcolor": "white",
            "linecolor": "white",
            "ticks": ""
           },
           "bgcolor": "#E5ECF6",
           "radialaxis": {
            "gridcolor": "white",
            "linecolor": "white",
            "ticks": ""
           }
          },
          "scene": {
           "xaxis": {
            "backgroundcolor": "#E5ECF6",
            "gridcolor": "white",
            "gridwidth": 2,
            "linecolor": "white",
            "showbackground": true,
            "ticks": "",
            "zerolinecolor": "white"
           },
           "yaxis": {
            "backgroundcolor": "#E5ECF6",
            "gridcolor": "white",
            "gridwidth": 2,
            "linecolor": "white",
            "showbackground": true,
            "ticks": "",
            "zerolinecolor": "white"
           },
           "zaxis": {
            "backgroundcolor": "#E5ECF6",
            "gridcolor": "white",
            "gridwidth": 2,
            "linecolor": "white",
            "showbackground": true,
            "ticks": "",
            "zerolinecolor": "white"
           }
          },
          "shapedefaults": {
           "line": {
            "color": "#2a3f5f"
           }
          },
          "ternary": {
           "aaxis": {
            "gridcolor": "white",
            "linecolor": "white",
            "ticks": ""
           },
           "baxis": {
            "gridcolor": "white",
            "linecolor": "white",
            "ticks": ""
           },
           "bgcolor": "#E5ECF6",
           "caxis": {
            "gridcolor": "white",
            "linecolor": "white",
            "ticks": ""
           }
          },
          "title": {
           "x": 0.05
          },
          "xaxis": {
           "automargin": true,
           "gridcolor": "white",
           "linecolor": "white",
           "ticks": "",
           "title": {
            "standoff": 15
           },
           "zerolinecolor": "white",
           "zerolinewidth": 2
          },
          "yaxis": {
           "automargin": true,
           "gridcolor": "white",
           "linecolor": "white",
           "ticks": "",
           "title": {
            "standoff": 15
           },
           "zerolinecolor": "white",
           "zerolinewidth": 2
          }
         }
        },
        "xaxis": {
         "title": {
          "text": "Products"
         }
        },
        "yaxis": {
         "title": {
          "text": "Count"
         }
        }
       }
      },
      "text/html": [
       "<div>                            <div id=\"6082ddc5-7437-42f7-b2ff-f9bec656b10d\" class=\"plotly-graph-div\" style=\"height:525px; width:100%;\"></div>            <script type=\"text/javascript\">                require([\"plotly\"], function(Plotly) {                    window.PLOTLYENV=window.PLOTLYENV || {};                                    if (document.getElementById(\"6082ddc5-7437-42f7-b2ff-f9bec656b10d\")) {                    Plotly.newPlot(                        \"6082ddc5-7437-42f7-b2ff-f9bec656b10d\",                        [{\"type\": \"bar\", \"x\": [\"whole milk\", \"other vegetables\", \"rolls/buns\", \"soda\", \"yogurt\", \"root vegetables\", \"tropical fruit\", \"bottled water\", \"sausage\", \"citrus fruit\"], \"y\": [2502, 1898, 1716, 1514, 1334, 1071, 1032, 933, 924, 812]}],                        {\"template\": {\"data\": {\"bar\": [{\"error_x\": {\"color\": \"#2a3f5f\"}, \"error_y\": {\"color\": \"#2a3f5f\"}, \"marker\": {\"line\": {\"color\": \"#E5ECF6\", \"width\": 0.5}}, \"type\": \"bar\"}], \"barpolar\": [{\"marker\": {\"line\": {\"color\": \"#E5ECF6\", \"width\": 0.5}}, \"type\": \"barpolar\"}], \"carpet\": [{\"aaxis\": {\"endlinecolor\": \"#2a3f5f\", \"gridcolor\": \"white\", \"linecolor\": \"white\", \"minorgridcolor\": \"white\", \"startlinecolor\": \"#2a3f5f\"}, \"baxis\": {\"endlinecolor\": \"#2a3f5f\", \"gridcolor\": \"white\", \"linecolor\": \"white\", \"minorgridcolor\": \"white\", \"startlinecolor\": \"#2a3f5f\"}, \"type\": \"carpet\"}], \"choropleth\": [{\"colorbar\": {\"outlinewidth\": 0, \"ticks\": \"\"}, \"type\": \"choropleth\"}], \"contour\": [{\"colorbar\": {\"outlinewidth\": 0, \"ticks\": \"\"}, \"colorscale\": [[0.0, \"#0d0887\"], [0.1111111111111111, \"#46039f\"], [0.2222222222222222, \"#7201a8\"], [0.3333333333333333, \"#9c179e\"], [0.4444444444444444, \"#bd3786\"], [0.5555555555555556, \"#d8576b\"], [0.6666666666666666, \"#ed7953\"], [0.7777777777777778, \"#fb9f3a\"], [0.8888888888888888, \"#fdca26\"], [1.0, \"#f0f921\"]], \"type\": \"contour\"}], \"contourcarpet\": [{\"colorbar\": {\"outlinewidth\": 0, \"ticks\": \"\"}, \"type\": \"contourcarpet\"}], \"heatmap\": [{\"colorbar\": {\"outlinewidth\": 0, \"ticks\": \"\"}, \"colorscale\": [[0.0, \"#0d0887\"], [0.1111111111111111, \"#46039f\"], [0.2222222222222222, \"#7201a8\"], [0.3333333333333333, \"#9c179e\"], [0.4444444444444444, \"#bd3786\"], [0.5555555555555556, \"#d8576b\"], [0.6666666666666666, \"#ed7953\"], [0.7777777777777778, \"#fb9f3a\"], [0.8888888888888888, \"#fdca26\"], [1.0, \"#f0f921\"]], \"type\": \"heatmap\"}], \"heatmapgl\": [{\"colorbar\": {\"outlinewidth\": 0, \"ticks\": \"\"}, \"colorscale\": [[0.0, \"#0d0887\"], [0.1111111111111111, \"#46039f\"], [0.2222222222222222, \"#7201a8\"], [0.3333333333333333, \"#9c179e\"], [0.4444444444444444, \"#bd3786\"], [0.5555555555555556, \"#d8576b\"], [0.6666666666666666, \"#ed7953\"], [0.7777777777777778, \"#fb9f3a\"], [0.8888888888888888, \"#fdca26\"], [1.0, \"#f0f921\"]], \"type\": \"heatmapgl\"}], \"histogram\": [{\"marker\": {\"colorbar\": {\"outlinewidth\": 0, \"ticks\": \"\"}}, \"type\": \"histogram\"}], \"histogram2d\": [{\"colorbar\": {\"outlinewidth\": 0, \"ticks\": \"\"}, \"colorscale\": [[0.0, \"#0d0887\"], [0.1111111111111111, \"#46039f\"], [0.2222222222222222, \"#7201a8\"], [0.3333333333333333, \"#9c179e\"], [0.4444444444444444, \"#bd3786\"], [0.5555555555555556, \"#d8576b\"], [0.6666666666666666, \"#ed7953\"], [0.7777777777777778, \"#fb9f3a\"], [0.8888888888888888, \"#fdca26\"], [1.0, \"#f0f921\"]], \"type\": \"histogram2d\"}], \"histogram2dcontour\": [{\"colorbar\": {\"outlinewidth\": 0, \"ticks\": \"\"}, \"colorscale\": [[0.0, \"#0d0887\"], [0.1111111111111111, \"#46039f\"], [0.2222222222222222, \"#7201a8\"], [0.3333333333333333, \"#9c179e\"], [0.4444444444444444, \"#bd3786\"], [0.5555555555555556, \"#d8576b\"], [0.6666666666666666, \"#ed7953\"], [0.7777777777777778, \"#fb9f3a\"], [0.8888888888888888, \"#fdca26\"], [1.0, \"#f0f921\"]], \"type\": \"histogram2dcontour\"}], \"mesh3d\": [{\"colorbar\": {\"outlinewidth\": 0, \"ticks\": \"\"}, \"type\": \"mesh3d\"}], \"parcoords\": [{\"line\": {\"colorbar\": {\"outlinewidth\": 0, \"ticks\": \"\"}}, \"type\": \"parcoords\"}], \"pie\": [{\"automargin\": true, \"type\": \"pie\"}], \"scatter\": [{\"marker\": {\"colorbar\": {\"outlinewidth\": 0, \"ticks\": \"\"}}, \"type\": \"scatter\"}], \"scatter3d\": [{\"line\": {\"colorbar\": {\"outlinewidth\": 0, \"ticks\": \"\"}}, \"marker\": {\"colorbar\": {\"outlinewidth\": 0, \"ticks\": \"\"}}, \"type\": \"scatter3d\"}], \"scattercarpet\": [{\"marker\": {\"colorbar\": {\"outlinewidth\": 0, \"ticks\": \"\"}}, \"type\": \"scattercarpet\"}], \"scattergeo\": [{\"marker\": {\"colorbar\": {\"outlinewidth\": 0, \"ticks\": \"\"}}, \"type\": \"scattergeo\"}], \"scattergl\": [{\"marker\": {\"colorbar\": {\"outlinewidth\": 0, \"ticks\": \"\"}}, \"type\": \"scattergl\"}], \"scattermapbox\": [{\"marker\": {\"colorbar\": {\"outlinewidth\": 0, \"ticks\": \"\"}}, \"type\": \"scattermapbox\"}], \"scatterpolar\": [{\"marker\": {\"colorbar\": {\"outlinewidth\": 0, \"ticks\": \"\"}}, \"type\": \"scatterpolar\"}], \"scatterpolargl\": [{\"marker\": {\"colorbar\": {\"outlinewidth\": 0, \"ticks\": \"\"}}, \"type\": \"scatterpolargl\"}], \"scatterternary\": [{\"marker\": {\"colorbar\": {\"outlinewidth\": 0, \"ticks\": \"\"}}, \"type\": \"scatterternary\"}], \"surface\": [{\"colorbar\": {\"outlinewidth\": 0, \"ticks\": \"\"}, \"colorscale\": [[0.0, \"#0d0887\"], [0.1111111111111111, \"#46039f\"], [0.2222222222222222, \"#7201a8\"], [0.3333333333333333, \"#9c179e\"], [0.4444444444444444, \"#bd3786\"], [0.5555555555555556, \"#d8576b\"], [0.6666666666666666, \"#ed7953\"], [0.7777777777777778, \"#fb9f3a\"], [0.8888888888888888, \"#fdca26\"], [1.0, \"#f0f921\"]], \"type\": \"surface\"}], \"table\": [{\"cells\": {\"fill\": {\"color\": \"#EBF0F8\"}, \"line\": {\"color\": \"white\"}}, \"header\": {\"fill\": {\"color\": \"#C8D4E3\"}, \"line\": {\"color\": \"white\"}}, \"type\": \"table\"}]}, \"layout\": {\"annotationdefaults\": {\"arrowcolor\": \"#2a3f5f\", \"arrowhead\": 0, \"arrowwidth\": 1}, \"autotypenumbers\": \"strict\", \"coloraxis\": {\"colorbar\": {\"outlinewidth\": 0, \"ticks\": \"\"}}, \"colorscale\": {\"diverging\": [[0, \"#8e0152\"], [0.1, \"#c51b7d\"], [0.2, \"#de77ae\"], [0.3, \"#f1b6da\"], [0.4, \"#fde0ef\"], [0.5, \"#f7f7f7\"], [0.6, \"#e6f5d0\"], [0.7, \"#b8e186\"], [0.8, \"#7fbc41\"], [0.9, \"#4d9221\"], [1, \"#276419\"]], \"sequential\": [[0.0, \"#0d0887\"], [0.1111111111111111, \"#46039f\"], [0.2222222222222222, \"#7201a8\"], [0.3333333333333333, \"#9c179e\"], [0.4444444444444444, \"#bd3786\"], [0.5555555555555556, \"#d8576b\"], [0.6666666666666666, \"#ed7953\"], [0.7777777777777778, \"#fb9f3a\"], [0.8888888888888888, \"#fdca26\"], [1.0, \"#f0f921\"]], \"sequentialminus\": [[0.0, \"#0d0887\"], [0.1111111111111111, \"#46039f\"], [0.2222222222222222, \"#7201a8\"], [0.3333333333333333, \"#9c179e\"], [0.4444444444444444, \"#bd3786\"], [0.5555555555555556, \"#d8576b\"], [0.6666666666666666, \"#ed7953\"], [0.7777777777777778, \"#fb9f3a\"], [0.8888888888888888, \"#fdca26\"], [1.0, \"#f0f921\"]]}, \"colorway\": [\"#636efa\", \"#EF553B\", \"#00cc96\", \"#ab63fa\", \"#FFA15A\", \"#19d3f3\", \"#FF6692\", \"#B6E880\", \"#FF97FF\", \"#FECB52\"], \"font\": {\"color\": \"#2a3f5f\"}, \"geo\": {\"bgcolor\": \"white\", \"lakecolor\": \"white\", \"landcolor\": \"#E5ECF6\", \"showlakes\": true, \"showland\": true, \"subunitcolor\": \"white\"}, \"hoverlabel\": {\"align\": \"left\"}, \"hovermode\": \"closest\", \"mapbox\": {\"style\": \"light\"}, \"paper_bgcolor\": \"white\", \"plot_bgcolor\": \"#E5ECF6\", \"polar\": {\"angularaxis\": {\"gridcolor\": \"white\", \"linecolor\": \"white\", \"ticks\": \"\"}, \"bgcolor\": \"#E5ECF6\", \"radialaxis\": {\"gridcolor\": \"white\", \"linecolor\": \"white\", \"ticks\": \"\"}}, \"scene\": {\"xaxis\": {\"backgroundcolor\": \"#E5ECF6\", \"gridcolor\": \"white\", \"gridwidth\": 2, \"linecolor\": \"white\", \"showbackground\": true, \"ticks\": \"\", \"zerolinecolor\": \"white\"}, \"yaxis\": {\"backgroundcolor\": \"#E5ECF6\", \"gridcolor\": \"white\", \"gridwidth\": 2, \"linecolor\": \"white\", \"showbackground\": true, \"ticks\": \"\", \"zerolinecolor\": \"white\"}, \"zaxis\": {\"backgroundcolor\": \"#E5ECF6\", \"gridcolor\": \"white\", \"gridwidth\": 2, \"linecolor\": \"white\", \"showbackground\": true, \"ticks\": \"\", \"zerolinecolor\": \"white\"}}, \"shapedefaults\": {\"line\": {\"color\": \"#2a3f5f\"}}, \"ternary\": {\"aaxis\": {\"gridcolor\": \"white\", \"linecolor\": \"white\", \"ticks\": \"\"}, \"baxis\": {\"gridcolor\": \"white\", \"linecolor\": \"white\", \"ticks\": \"\"}, \"bgcolor\": \"#E5ECF6\", \"caxis\": {\"gridcolor\": \"white\", \"linecolor\": \"white\", \"ticks\": \"\"}}, \"title\": {\"x\": 0.05}, \"xaxis\": {\"automargin\": true, \"gridcolor\": \"white\", \"linecolor\": \"white\", \"ticks\": \"\", \"title\": {\"standoff\": 15}, \"zerolinecolor\": \"white\", \"zerolinewidth\": 2}, \"yaxis\": {\"automargin\": true, \"gridcolor\": \"white\", \"linecolor\": \"white\", \"ticks\": \"\", \"title\": {\"standoff\": 15}, \"zerolinecolor\": \"white\", \"zerolinewidth\": 2}}}, \"xaxis\": {\"title\": {\"text\": \"Products\"}}, \"yaxis\": {\"title\": {\"text\": \"Count\"}}},                        {\"responsive\": true}                    ).then(function(){\n",
       "                            \n",
       "var gd = document.getElementById('6082ddc5-7437-42f7-b2ff-f9bec656b10d');\n",
       "var x = new MutationObserver(function (mutations, observer) {{\n",
       "        var display = window.getComputedStyle(gd).display;\n",
       "        if (!display || display === 'none') {{\n",
       "            console.log([gd, 'removed!']);\n",
       "            Plotly.purge(gd);\n",
       "            observer.disconnect();\n",
       "        }}\n",
       "}});\n",
       "\n",
       "// Listen for the removal of the full notebook cells\n",
       "var notebookContainer = gd.closest('#notebook-container');\n",
       "if (notebookContainer) {{\n",
       "    x.observe(notebookContainer, {childList: true});\n",
       "}}\n",
       "\n",
       "// Listen for the clearing of the current output cell\n",
       "var outputEl = gd.closest('.output');\n",
       "if (outputEl) {{\n",
       "    x.observe(outputEl, {childList: true});\n",
       "}}\n",
       "\n",
       "                        })                };                });            </script>        </div>"
      ]
     },
     "metadata": {},
     "output_type": "display_data"
    }
   ],
   "source": [
    "x = trans['itemDescription'].value_counts()\n",
    "x = x.sort_values(ascending = False) \n",
    "x = x[:10]\n",
    "\n",
    "ditribution_plot(x=x.index, y=x.values, yaxis=\"Count\", xaxis=\"Products\")"
   ]
  },
  {
   "cell_type": "code",
   "execution_count": 220,
   "id": "0892e339",
   "metadata": {},
   "outputs": [
    {
     "data": {
      "text/html": [
       "<div>\n",
       "<style scoped>\n",
       "    .dataframe tbody tr th:only-of-type {\n",
       "        vertical-align: middle;\n",
       "    }\n",
       "\n",
       "    .dataframe tbody tr th {\n",
       "        vertical-align: top;\n",
       "    }\n",
       "\n",
       "    .dataframe thead th {\n",
       "        text-align: right;\n",
       "    }\n",
       "</style>\n",
       "<table border=\"1\" class=\"dataframe\">\n",
       "  <thead>\n",
       "    <tr style=\"text-align: right;\">\n",
       "      <th></th>\n",
       "      <th>Member_number</th>\n",
       "      <th>Date</th>\n",
       "      <th>Instant food products</th>\n",
       "      <th>UHT-milk</th>\n",
       "      <th>abrasive cleaner</th>\n",
       "      <th>artif. sweetener</th>\n",
       "      <th>baby cosmetics</th>\n",
       "      <th>bags</th>\n",
       "      <th>baking powder</th>\n",
       "      <th>bathroom cleaner</th>\n",
       "      <th>...</th>\n",
       "      <th>turkey</th>\n",
       "      <th>vinegar</th>\n",
       "      <th>waffles</th>\n",
       "      <th>whipped/sour cream</th>\n",
       "      <th>whisky</th>\n",
       "      <th>white bread</th>\n",
       "      <th>white wine</th>\n",
       "      <th>whole milk</th>\n",
       "      <th>yogurt</th>\n",
       "      <th>zwieback</th>\n",
       "    </tr>\n",
       "  </thead>\n",
       "  <tbody>\n",
       "    <tr>\n",
       "      <th>0</th>\n",
       "      <td>1808</td>\n",
       "      <td>21-07-2015</td>\n",
       "      <td>0</td>\n",
       "      <td>0</td>\n",
       "      <td>0</td>\n",
       "      <td>0</td>\n",
       "      <td>0</td>\n",
       "      <td>0</td>\n",
       "      <td>0</td>\n",
       "      <td>0</td>\n",
       "      <td>...</td>\n",
       "      <td>0</td>\n",
       "      <td>0</td>\n",
       "      <td>0</td>\n",
       "      <td>0</td>\n",
       "      <td>0</td>\n",
       "      <td>0</td>\n",
       "      <td>0</td>\n",
       "      <td>0</td>\n",
       "      <td>0</td>\n",
       "      <td>0</td>\n",
       "    </tr>\n",
       "    <tr>\n",
       "      <th>1</th>\n",
       "      <td>2552</td>\n",
       "      <td>05-01-2015</td>\n",
       "      <td>0</td>\n",
       "      <td>0</td>\n",
       "      <td>0</td>\n",
       "      <td>0</td>\n",
       "      <td>0</td>\n",
       "      <td>0</td>\n",
       "      <td>0</td>\n",
       "      <td>0</td>\n",
       "      <td>...</td>\n",
       "      <td>0</td>\n",
       "      <td>0</td>\n",
       "      <td>0</td>\n",
       "      <td>0</td>\n",
       "      <td>0</td>\n",
       "      <td>0</td>\n",
       "      <td>0</td>\n",
       "      <td>1</td>\n",
       "      <td>0</td>\n",
       "      <td>0</td>\n",
       "    </tr>\n",
       "    <tr>\n",
       "      <th>2</th>\n",
       "      <td>2300</td>\n",
       "      <td>19-09-2015</td>\n",
       "      <td>0</td>\n",
       "      <td>0</td>\n",
       "      <td>0</td>\n",
       "      <td>0</td>\n",
       "      <td>0</td>\n",
       "      <td>0</td>\n",
       "      <td>0</td>\n",
       "      <td>0</td>\n",
       "      <td>...</td>\n",
       "      <td>0</td>\n",
       "      <td>0</td>\n",
       "      <td>0</td>\n",
       "      <td>0</td>\n",
       "      <td>0</td>\n",
       "      <td>0</td>\n",
       "      <td>0</td>\n",
       "      <td>0</td>\n",
       "      <td>0</td>\n",
       "      <td>0</td>\n",
       "    </tr>\n",
       "    <tr>\n",
       "      <th>3</th>\n",
       "      <td>1187</td>\n",
       "      <td>12-12-2015</td>\n",
       "      <td>0</td>\n",
       "      <td>0</td>\n",
       "      <td>0</td>\n",
       "      <td>0</td>\n",
       "      <td>0</td>\n",
       "      <td>0</td>\n",
       "      <td>0</td>\n",
       "      <td>0</td>\n",
       "      <td>...</td>\n",
       "      <td>0</td>\n",
       "      <td>0</td>\n",
       "      <td>0</td>\n",
       "      <td>0</td>\n",
       "      <td>0</td>\n",
       "      <td>0</td>\n",
       "      <td>0</td>\n",
       "      <td>0</td>\n",
       "      <td>0</td>\n",
       "      <td>0</td>\n",
       "    </tr>\n",
       "    <tr>\n",
       "      <th>4</th>\n",
       "      <td>3037</td>\n",
       "      <td>01-02-2015</td>\n",
       "      <td>0</td>\n",
       "      <td>0</td>\n",
       "      <td>0</td>\n",
       "      <td>0</td>\n",
       "      <td>0</td>\n",
       "      <td>0</td>\n",
       "      <td>0</td>\n",
       "      <td>0</td>\n",
       "      <td>...</td>\n",
       "      <td>0</td>\n",
       "      <td>0</td>\n",
       "      <td>0</td>\n",
       "      <td>0</td>\n",
       "      <td>0</td>\n",
       "      <td>0</td>\n",
       "      <td>0</td>\n",
       "      <td>1</td>\n",
       "      <td>0</td>\n",
       "      <td>0</td>\n",
       "    </tr>\n",
       "  </tbody>\n",
       "</table>\n",
       "<p>5 rows × 169 columns</p>\n",
       "</div>"
      ],
      "text/plain": [
       "   Member_number        Date  Instant food products  UHT-milk  \\\n",
       "0           1808  21-07-2015                      0         0   \n",
       "1           2552  05-01-2015                      0         0   \n",
       "2           2300  19-09-2015                      0         0   \n",
       "3           1187  12-12-2015                      0         0   \n",
       "4           3037  01-02-2015                      0         0   \n",
       "\n",
       "   abrasive cleaner  artif. sweetener  baby cosmetics  bags  baking powder  \\\n",
       "0                 0                 0               0     0              0   \n",
       "1                 0                 0               0     0              0   \n",
       "2                 0                 0               0     0              0   \n",
       "3                 0                 0               0     0              0   \n",
       "4                 0                 0               0     0              0   \n",
       "\n",
       "   bathroom cleaner  ...  turkey  vinegar  waffles  whipped/sour cream  \\\n",
       "0                 0  ...       0        0        0                   0   \n",
       "1                 0  ...       0        0        0                   0   \n",
       "2                 0  ...       0        0        0                   0   \n",
       "3                 0  ...       0        0        0                   0   \n",
       "4                 0  ...       0        0        0                   0   \n",
       "\n",
       "   whisky  white bread  white wine  whole milk  yogurt  zwieback  \n",
       "0       0            0           0           0       0         0  \n",
       "1       0            0           0           1       0         0  \n",
       "2       0            0           0           0       0         0  \n",
       "3       0            0           0           0       0         0  \n",
       "4       0            0           0           1       0         0  \n",
       "\n",
       "[5 rows x 169 columns]"
      ]
     },
     "execution_count": 220,
     "metadata": {},
     "output_type": "execute_result"
    }
   ],
   "source": [
    "one_hot = pd.get_dummies(trans['itemDescription'])\n",
    "trans.drop('itemDescription', inplace=True, axis=1)\n",
    "trans = trans.join(one_hot)\n",
    "trans.head()"
   ]
  },
  {
   "cell_type": "code",
   "execution_count": 222,
   "id": "7bdc646f",
   "metadata": {},
   "outputs": [],
   "source": [
    "records = trans.groupby([\"Member_number\",\"Date\"])[all_products[:]].apply(sum)\n",
    "records = records.reset_index()[all_products]"
   ]
  },
  {
   "cell_type": "code",
   "execution_count": 223,
   "id": "5e03ab72",
   "metadata": {},
   "outputs": [
    {
     "data": {
      "text/html": [
       "<div>\n",
       "<style scoped>\n",
       "    .dataframe tbody tr th:only-of-type {\n",
       "        vertical-align: middle;\n",
       "    }\n",
       "\n",
       "    .dataframe tbody tr th {\n",
       "        vertical-align: top;\n",
       "    }\n",
       "\n",
       "    .dataframe thead th {\n",
       "        text-align: right;\n",
       "    }\n",
       "</style>\n",
       "<table border=\"1\" class=\"dataframe\">\n",
       "  <thead>\n",
       "    <tr style=\"text-align: right;\">\n",
       "      <th></th>\n",
       "      <th>tropical fruit</th>\n",
       "      <th>whole milk</th>\n",
       "      <th>pip fruit</th>\n",
       "      <th>other vegetables</th>\n",
       "      <th>rolls/buns</th>\n",
       "      <th>pot plants</th>\n",
       "      <th>citrus fruit</th>\n",
       "      <th>beef</th>\n",
       "      <th>frankfurter</th>\n",
       "      <th>chicken</th>\n",
       "      <th>...</th>\n",
       "      <th>flower (seeds)</th>\n",
       "      <th>rice</th>\n",
       "      <th>tea</th>\n",
       "      <th>salad dressing</th>\n",
       "      <th>specialty vegetables</th>\n",
       "      <th>pudding powder</th>\n",
       "      <th>ready soups</th>\n",
       "      <th>make up remover</th>\n",
       "      <th>toilet cleaner</th>\n",
       "      <th>preservation products</th>\n",
       "    </tr>\n",
       "  </thead>\n",
       "  <tbody>\n",
       "    <tr>\n",
       "      <th>0</th>\n",
       "      <td>0</td>\n",
       "      <td>whole milk</td>\n",
       "      <td>0</td>\n",
       "      <td>0</td>\n",
       "      <td>0</td>\n",
       "      <td>0</td>\n",
       "      <td>0</td>\n",
       "      <td>0</td>\n",
       "      <td>0</td>\n",
       "      <td>0</td>\n",
       "      <td>...</td>\n",
       "      <td>0</td>\n",
       "      <td>0</td>\n",
       "      <td>0</td>\n",
       "      <td>0</td>\n",
       "      <td>0</td>\n",
       "      <td>0</td>\n",
       "      <td>0</td>\n",
       "      <td>0</td>\n",
       "      <td>0</td>\n",
       "      <td>0</td>\n",
       "    </tr>\n",
       "    <tr>\n",
       "      <th>1</th>\n",
       "      <td>0</td>\n",
       "      <td>whole milk</td>\n",
       "      <td>0</td>\n",
       "      <td>0</td>\n",
       "      <td>0</td>\n",
       "      <td>0</td>\n",
       "      <td>0</td>\n",
       "      <td>0</td>\n",
       "      <td>0</td>\n",
       "      <td>0</td>\n",
       "      <td>...</td>\n",
       "      <td>0</td>\n",
       "      <td>0</td>\n",
       "      <td>0</td>\n",
       "      <td>0</td>\n",
       "      <td>0</td>\n",
       "      <td>0</td>\n",
       "      <td>0</td>\n",
       "      <td>0</td>\n",
       "      <td>0</td>\n",
       "      <td>0</td>\n",
       "    </tr>\n",
       "    <tr>\n",
       "      <th>2</th>\n",
       "      <td>0</td>\n",
       "      <td>0</td>\n",
       "      <td>0</td>\n",
       "      <td>0</td>\n",
       "      <td>0</td>\n",
       "      <td>0</td>\n",
       "      <td>0</td>\n",
       "      <td>0</td>\n",
       "      <td>0</td>\n",
       "      <td>0</td>\n",
       "      <td>...</td>\n",
       "      <td>0</td>\n",
       "      <td>0</td>\n",
       "      <td>0</td>\n",
       "      <td>0</td>\n",
       "      <td>0</td>\n",
       "      <td>0</td>\n",
       "      <td>0</td>\n",
       "      <td>0</td>\n",
       "      <td>0</td>\n",
       "      <td>0</td>\n",
       "    </tr>\n",
       "    <tr>\n",
       "      <th>3</th>\n",
       "      <td>0</td>\n",
       "      <td>0</td>\n",
       "      <td>0</td>\n",
       "      <td>0</td>\n",
       "      <td>0</td>\n",
       "      <td>0</td>\n",
       "      <td>0</td>\n",
       "      <td>0</td>\n",
       "      <td>0</td>\n",
       "      <td>0</td>\n",
       "      <td>...</td>\n",
       "      <td>0</td>\n",
       "      <td>0</td>\n",
       "      <td>0</td>\n",
       "      <td>0</td>\n",
       "      <td>0</td>\n",
       "      <td>0</td>\n",
       "      <td>0</td>\n",
       "      <td>0</td>\n",
       "      <td>0</td>\n",
       "      <td>0</td>\n",
       "    </tr>\n",
       "    <tr>\n",
       "      <th>4</th>\n",
       "      <td>0</td>\n",
       "      <td>0</td>\n",
       "      <td>0</td>\n",
       "      <td>0</td>\n",
       "      <td>0</td>\n",
       "      <td>0</td>\n",
       "      <td>0</td>\n",
       "      <td>0</td>\n",
       "      <td>0</td>\n",
       "      <td>0</td>\n",
       "      <td>...</td>\n",
       "      <td>0</td>\n",
       "      <td>0</td>\n",
       "      <td>0</td>\n",
       "      <td>0</td>\n",
       "      <td>0</td>\n",
       "      <td>0</td>\n",
       "      <td>0</td>\n",
       "      <td>0</td>\n",
       "      <td>0</td>\n",
       "      <td>0</td>\n",
       "    </tr>\n",
       "  </tbody>\n",
       "</table>\n",
       "<p>5 rows × 167 columns</p>\n",
       "</div>"
      ],
      "text/plain": [
       "  tropical fruit  whole milk pip fruit other vegetables rolls/buns pot plants  \\\n",
       "0              0  whole milk         0                0          0          0   \n",
       "1              0  whole milk         0                0          0          0   \n",
       "2              0           0         0                0          0          0   \n",
       "3              0           0         0                0          0          0   \n",
       "4              0           0         0                0          0          0   \n",
       "\n",
       "  citrus fruit beef frankfurter chicken  ... flower (seeds) rice tea  \\\n",
       "0            0    0           0       0  ...              0    0   0   \n",
       "1            0    0           0       0  ...              0    0   0   \n",
       "2            0    0           0       0  ...              0    0   0   \n",
       "3            0    0           0       0  ...              0    0   0   \n",
       "4            0    0           0       0  ...              0    0   0   \n",
       "\n",
       "  salad dressing specialty vegetables pudding powder ready soups  \\\n",
       "0              0                    0              0           0   \n",
       "1              0                    0              0           0   \n",
       "2              0                    0              0           0   \n",
       "3              0                    0              0           0   \n",
       "4              0                    0              0           0   \n",
       "\n",
       "  make up remover toilet cleaner preservation products  \n",
       "0               0              0                     0  \n",
       "1               0              0                     0  \n",
       "2               0              0                     0  \n",
       "3               0              0                     0  \n",
       "4               0              0                     0  \n",
       "\n",
       "[5 rows x 167 columns]"
      ]
     },
     "execution_count": 223,
     "metadata": {},
     "output_type": "execute_result"
    }
   ],
   "source": [
    "## Replacing non-zero values with product names\n",
    "def get_Pnames(x):\n",
    "    for product in all_products:\n",
    "        if x[product] > 0:\n",
    "            x[product] = product\n",
    "    return x\n",
    "\n",
    "records = records.apply(get_Pnames, axis=1)\n",
    "records.head()"
   ]
  },
  {
   "cell_type": "code",
   "execution_count": 224,
   "id": "9863a322",
   "metadata": {},
   "outputs": [],
   "source": [
    "## Removing zeros\n",
    "x = records.values\n",
    "x = [sub[~(sub == 0)].tolist() for sub in x if sub[sub != 0].tolist()]\n",
    "transactions = x"
   ]
  },
  {
   "cell_type": "code",
   "execution_count": 225,
   "id": "0325b816",
   "metadata": {},
   "outputs": [],
   "source": [
    "temsets, rules = apriori(transactions,min_support=0.0005,min_confidence=0.05,max_length=4)"
   ]
  },
  {
   "cell_type": "code",
   "execution_count": 226,
   "id": "1ef206eb",
   "metadata": {},
   "outputs": [
    {
     "name": "stdout",
     "output_type": "stream",
     "text": [
      "{rolls/buns, yogurt} -> {other vegetables} (conf: 0.077, supp: 0.001, lift: 0.630, conv: 0.951)\n",
      "====================================================================================================\n",
      "{pip fruit, whole milk} -> {other vegetables} (conf: 0.081, supp: 0.001, lift: 0.662, conv: 0.955)\n",
      "====================================================================================================\n",
      "{rolls/buns, root vegetables} -> {whole milk} (conf: 0.105, supp: 0.001, lift: 0.663, conv: 0.941)\n",
      "====================================================================================================\n",
      "{other vegetables, rolls/buns} -> {yogurt} (conf: 0.057, supp: 0.001, lift: 0.663, conv: 0.969)\n",
      "====================================================================================================\n",
      "{other vegetables, yogurt} -> {rolls/buns} (conf: 0.074, supp: 0.001, lift: 0.676, conv: 0.962)\n",
      "====================================================================================================\n",
      "{other vegetables, shopping bags} -> {whole milk} (conf: 0.108, supp: 0.001, lift: 0.685, conv: 0.944)\n",
      "====================================================================================================\n",
      "{other vegetables, pip fruit} -> {whole milk} (conf: 0.108, supp: 0.001, lift: 0.685, conv: 0.944)\n",
      "====================================================================================================\n",
      "{bottled water, whole milk} -> {other vegetables} (conf: 0.084, supp: 0.001, lift: 0.689, conv: 0.959)\n",
      "====================================================================================================\n",
      "{shopping bags, whole milk} -> {other vegetables} (conf: 0.084, supp: 0.001, lift: 0.690, conv: 0.959)\n",
      "====================================================================================================\n",
      "{bottled water, other vegetables} -> {whole milk} (conf: 0.110, supp: 0.001, lift: 0.695, conv: 0.946)\n",
      "====================================================================================================\n",
      "{rolls/buns, tropical fruit} -> {whole milk} (conf: 0.110, supp: 0.001, lift: 0.696, conv: 0.946)\n",
      "====================================================================================================\n",
      "{rolls/buns, whole milk} -> {other vegetables} (conf: 0.086, supp: 0.001, lift: 0.705, conv: 0.961)\n",
      "====================================================================================================\n",
      "{rolls/buns, shopping bags} -> {whole milk} (conf: 0.113, supp: 0.001, lift: 0.713, conv: 0.949)\n",
      "====================================================================================================\n",
      "{other vegetables, rolls/buns} -> {whole milk} (conf: 0.114, supp: 0.001, lift: 0.721, conv: 0.950)\n",
      "====================================================================================================\n",
      "{root vegetables, whole milk} -> {rolls/buns} (conf: 0.080, supp: 0.001, lift: 0.724, conv: 0.967)\n",
      "====================================================================================================\n",
      "{root vegetables, whole milk} -> {other vegetables} (conf: 0.088, supp: 0.001, lift: 0.725, conv: 0.963)\n",
      "====================================================================================================\n",
      "{canned beer, whole milk} -> {other vegetables} (conf: 0.089, supp: 0.001, lift: 0.728, conv: 0.964)\n",
      "====================================================================================================\n",
      "{tropical fruit, whole milk} -> {other vegetables} (conf: 0.089, supp: 0.001, lift: 0.732, conv: 0.964)\n",
      "====================================================================================================\n",
      "{other vegetables, whole milk} -> {rolls/buns} (conf: 0.081, supp: 0.001, lift: 0.737, conv: 0.969)\n",
      "====================================================================================================\n",
      "{tropical fruit, whole milk} -> {rolls/buns} (conf: 0.081, supp: 0.001, lift: 0.739, conv: 0.969)\n",
      "====================================================================================================\n",
      "{rolls/buns, whole milk} -> {soda} (conf: 0.072, supp: 0.001, lift: 0.739, conv: 0.973)\n",
      "====================================================================================================\n",
      "{other vegetables, tropical fruit} -> {whole milk} (conf: 0.117, supp: 0.001, lift: 0.741, conv: 0.954)\n",
      "====================================================================================================\n",
      "{other vegetables, soda} -> {whole milk} (conf: 0.117, supp: 0.001, lift: 0.742, conv: 0.954)\n",
      "====================================================================================================\n",
      "{shopping bags, whole milk} -> {rolls/buns} (conf: 0.084, supp: 0.001, lift: 0.766, conv: 0.972)\n",
      "====================================================================================================\n",
      "{soda, tropical fruit} -> {whole milk} (conf: 0.123, supp: 0.001, lift: 0.782, conv: 0.961)\n",
      "====================================================================================================\n",
      "{soda, whole milk} -> {rolls/buns} (conf: 0.086, supp: 0.001, lift: 0.784, conv: 0.974)\n",
      "====================================================================================================\n",
      "{rolls/buns, soda} -> {whole milk} (conf: 0.124, supp: 0.001, lift: 0.785, conv: 0.961)\n",
      "====================================================================================================\n",
      "{other vegetables, whole milk} -> {soda} (conf: 0.077, supp: 0.001, lift: 0.789, conv: 0.978)\n",
      "====================================================================================================\n",
      "{soda, whole milk} -> {other vegetables} (conf: 0.098, supp: 0.001, lift: 0.800, conv: 0.973)\n",
      "====================================================================================================\n",
      "{other vegetables, root vegetables} -> {whole milk} (conf: 0.127, supp: 0.001, lift: 0.802, conv: 0.964)\n",
      "====================================================================================================\n",
      "{whole milk, yogurt} -> {other vegetables} (conf: 0.102, supp: 0.001, lift: 0.834, conv: 0.977)\n",
      "====================================================================================================\n",
      "{tropical fruit, whole milk} -> {soda} (conf: 0.081, supp: 0.001, lift: 0.837, conv: 0.983)\n",
      "====================================================================================================\n",
      "{canned beer, other vegetables} -> {whole milk} (conf: 0.133, supp: 0.001, lift: 0.844, conv: 0.972)\n",
      "====================================================================================================\n",
      "{pastry, whole milk} -> {other vegetables} (conf: 0.103, supp: 0.001, lift: 0.844, conv: 0.979)\n",
      "====================================================================================================\n",
      "{soda, whole milk} -> {tropical fruit} (conf: 0.057, supp: 0.001, lift: 0.848, conv: 0.989)\n",
      "====================================================================================================\n",
      "{bottled beer, whole milk} -> {rolls/buns} (conf: 0.093, supp: 0.001, lift: 0.850, conv: 0.982)\n",
      "====================================================================================================\n",
      "{citrus fruit, whole milk} -> {rolls/buns} (conf: 0.093, supp: 0.001, lift: 0.850, conv: 0.982)\n",
      "====================================================================================================\n",
      "{sausage, whole milk} -> {other vegetables} (conf: 0.104, supp: 0.001, lift: 0.856, conv: 0.980)\n",
      "====================================================================================================\n",
      "{pip fruit, rolls/buns} -> {whole milk} (conf: 0.135, supp: 0.001, lift: 0.856, conv: 0.974)\n",
      "====================================================================================================\n",
      "{sausage, whole milk} -> {root vegetables} (conf: 0.060, supp: 0.001, lift: 0.858, conv: 0.990)\n",
      "====================================================================================================\n",
      "{other vegetables, pork} -> {whole milk} (conf: 0.136, supp: 0.001, lift: 0.859, conv: 0.974)\n",
      "====================================================================================================\n",
      "{whole milk, yogurt} -> {root vegetables} (conf: 0.060, supp: 0.001, lift: 0.861, conv: 0.990)\n",
      "====================================================================================================\n",
      "{whole milk, yogurt} -> {soda} (conf: 0.084, supp: 0.001, lift: 0.863, conv: 0.986)\n",
      "====================================================================================================\n",
      "{shopping bags, soda} -> {whole milk} (conf: 0.136, supp: 0.001, lift: 0.863, conv: 0.975)\n",
      "====================================================================================================\n",
      "{pork, whole milk} -> {other vegetables} (conf: 0.107, supp: 0.001, lift: 0.874, conv: 0.983)\n",
      "====================================================================================================\n",
      "{pip fruit, rolls/buns} -> {other vegetables} (conf: 0.108, supp: 0.001, lift: 0.885, conv: 0.984)\n",
      "====================================================================================================\n",
      "{other vegetables, yogurt} -> {whole milk} (conf: 0.140, supp: 0.001, lift: 0.890, conv: 0.980)\n",
      "====================================================================================================\n",
      "{other vegetables, whole milk} -> {yogurt} (conf: 0.077, supp: 0.001, lift: 0.892, conv: 0.990)\n",
      "====================================================================================================\n",
      "{citrus fruit, rolls/buns} -> {whole milk} (conf: 0.143, supp: 0.001, lift: 0.905, conv: 0.982)\n",
      "====================================================================================================\n",
      "{other vegetables, soda} -> {bottled water} (conf: 0.055, supp: 0.001, lift: 0.909, conv: 0.994)\n",
      "====================================================================================================\n",
      "{bottled water, soda} -> {other vegetables} (conf: 0.111, supp: 0.001, lift: 0.910, conv: 0.988)\n",
      "====================================================================================================\n",
      "{citrus fruit, yogurt} -> {whole milk} (conf: 0.145, supp: 0.001, lift: 0.918, conv: 0.985)\n",
      "====================================================================================================\n",
      "{pip fruit, whole milk} -> {rolls/buns} (conf: 0.101, supp: 0.001, lift: 0.918, conv: 0.990)\n",
      "====================================================================================================\n",
      "{sausage, soda} -> {other vegetables} (conf: 0.112, supp: 0.001, lift: 0.920, conv: 0.989)\n",
      "====================================================================================================\n",
      "{domestic eggs, whole milk} -> {other vegetables} (conf: 0.114, supp: 0.001, lift: 0.933, conv: 0.991)\n",
      "====================================================================================================\n",
      "{beef, whole milk} -> {other vegetables} (conf: 0.114, supp: 0.001, lift: 0.936, conv: 0.991)\n",
      "====================================================================================================\n",
      "{pip fruit, whole milk} -> {soda} (conf: 0.091, supp: 0.001, lift: 0.936, conv: 0.993)\n",
      "====================================================================================================\n",
      "{soda, whole milk} -> {yogurt} (conf: 0.080, supp: 0.001, lift: 0.937, conv: 0.994)\n",
      "====================================================================================================\n",
      "{frankfurter, other vegetables} -> {rolls/buns} (conf: 0.104, supp: 0.001, lift: 0.944, conv: 0.993)\n",
      "====================================================================================================\n",
      "{sausage, yogurt} -> {rolls/buns} (conf: 0.105, supp: 0.001, lift: 0.951, conv: 0.994)\n",
      "====================================================================================================\n",
      "{shopping bags, yogurt} -> {whole milk} (conf: 0.151, supp: 0.001, lift: 0.956, conv: 0.992)\n",
      "====================================================================================================\n",
      "{pip fruit, soda} -> {whole milk} (conf: 0.153, supp: 0.001, lift: 0.966, conv: 0.994)\n",
      "====================================================================================================\n",
      "{tropical fruit, yogurt} -> {whole milk} (conf: 0.154, supp: 0.001, lift: 0.974, conv: 0.995)\n",
      "====================================================================================================\n",
      "{bottled water, root vegetables} -> {whole milk} (conf: 0.154, supp: 0.001, lift: 0.974, conv: 0.995)\n",
      "====================================================================================================\n",
      "{shopping bags, whole milk} -> {soda} (conf: 0.095, supp: 0.001, lift: 0.976, conv: 0.997)\n",
      "====================================================================================================\n",
      "{other vegetables, rolls/buns} -> {pastry} (conf: 0.051, supp: 0.001, lift: 0.979, conv: 0.999)\n",
      "====================================================================================================\n",
      "{shopping bags, whole milk} -> {yogurt} (conf: 0.084, supp: 0.001, lift: 0.981, conv: 0.998)\n",
      "====================================================================================================\n",
      "{other vegetables, pip fruit} -> {rolls/buns} (conf: 0.108, supp: 0.001, lift: 0.983, conv: 0.998)\n",
      "====================================================================================================\n",
      "{other vegetables, sausage} -> {whole milk} (conf: 0.156, supp: 0.001, lift: 0.985, conv: 0.997)\n",
      "====================================================================================================\n",
      "{frankfurter, other vegetables} -> {whole milk} (conf: 0.156, supp: 0.001, lift: 0.987, conv: 0.998)\n",
      "====================================================================================================\n",
      "{root vegetables, yogurt} -> {whole milk} (conf: 0.156, supp: 0.001, lift: 0.989, conv: 0.998)\n",
      "====================================================================================================\n",
      "{bottled water, other vegetables} -> {soda} (conf: 0.098, supp: 0.001, lift: 1.005, conv: 1.001)\n",
      "====================================================================================================\n",
      "{canned beer, rolls/buns} -> {whole milk} (conf: 0.159, supp: 0.001, lift: 1.005, conv: 1.001)\n",
      "====================================================================================================\n",
      "{canned beer, whole milk} -> {rolls/buns} (conf: 0.111, supp: 0.001, lift: 1.010, conv: 1.001)\n",
      "====================================================================================================\n",
      "{root vegetables, sausage} -> {whole milk} (conf: 0.160, supp: 0.001, lift: 1.013, conv: 1.002)\n",
      "====================================================================================================\n",
      "{brown bread, rolls/buns} -> {whole milk} (conf: 0.160, supp: 0.001, lift: 1.013, conv: 1.002)\n",
      "====================================================================================================\n",
      "{rolls/buns, whole milk} -> {pastry} (conf: 0.053, supp: 0.001, lift: 1.017, conv: 1.001)\n",
      "====================================================================================================\n",
      "{fruit/vegetable juice, rolls/buns} -> {whole milk} (conf: 0.161, supp: 0.001, lift: 1.018, conv: 1.003)\n",
      "====================================================================================================\n",
      "{soda, yogurt} -> {whole milk} (conf: 0.161, supp: 0.001, lift: 1.019, conv: 1.004)\n",
      "====================================================================================================\n",
      "{sausage, soda} -> {rolls/buns} (conf: 0.112, supp: 0.001, lift: 1.021, conv: 1.003)\n",
      "====================================================================================================\n",
      "{root vegetables, whole milk} -> {yogurt} (conf: 0.088, supp: 0.001, lift: 1.030, conv: 1.003)\n",
      "====================================================================================================\n",
      "{pastry, whole milk} -> {rolls/buns} (conf: 0.113, supp: 0.001, lift: 1.031, conv: 1.004)\n",
      "====================================================================================================\n",
      "{other vegetables, rolls/buns} -> {pip fruit} (conf: 0.051, supp: 0.001, lift: 1.032, conv: 1.002)\n",
      "====================================================================================================\n",
      "{frankfurter, whole milk} -> {rolls/buns} (conf: 0.114, supp: 0.001, lift: 1.036, conv: 1.004)\n",
      "====================================================================================================\n",
      "{frankfurter, rolls/buns} -> {whole milk} (conf: 0.164, supp: 0.001, lift: 1.036, conv: 1.007)\n",
      "====================================================================================================\n",
      "{whole milk, yogurt} -> {pastry} (conf: 0.054, supp: 0.001, lift: 1.042, conv: 1.002)\n",
      "====================================================================================================\n",
      "{other vegetables, whole milk} -> {sausage} (conf: 0.063, supp: 0.001, lift: 1.045, conv: 1.003)\n",
      "====================================================================================================\n",
      "{soda, whole milk} -> {pip fruit} (conf: 0.052, supp: 0.001, lift: 1.054, conv: 1.003)\n",
      "====================================================================================================\n",
      "{pip fruit, yogurt} -> {whole milk} (conf: 0.167, supp: 0.001, lift: 1.055, conv: 1.010)\n",
      "====================================================================================================\n",
      "{pastry, yogurt} -> {whole milk} (conf: 0.167, supp: 0.001, lift: 1.055, conv: 1.010)\n",
      "====================================================================================================\n",
      "{bottled beer, rolls/buns} -> {whole milk} (conf: 0.167, supp: 0.001, lift: 1.055, conv: 1.010)\n",
      "====================================================================================================\n",
      "{bottled water, soda} -> {whole milk} (conf: 0.167, supp: 0.001, lift: 1.055, conv: 1.010)\n",
      "====================================================================================================\n",
      "{pip fruit, whole milk} -> {yogurt} (conf: 0.091, supp: 0.001, lift: 1.059, conv: 1.006)\n",
      "====================================================================================================\n",
      "{whole milk, yogurt} -> {tropical fruit} (conf: 0.072, supp: 0.001, lift: 1.060, conv: 1.004)\n",
      "====================================================================================================\n",
      "{other vegetables, soda} -> {rolls/buns} (conf: 0.117, supp: 0.001, lift: 1.066, conv: 1.008)\n",
      "====================================================================================================\n",
      "{citrus fruit, yogurt} -> {other vegetables} (conf: 0.130, supp: 0.001, lift: 1.068, conv: 1.010)\n",
      "====================================================================================================\n",
      "{bottled water, whole milk} -> {root vegetables} (conf: 0.075, supp: 0.001, lift: 1.075, conv: 1.006)\n",
      "====================================================================================================\n",
      "{domestic eggs, other vegetables} -> {whole milk} (conf: 0.170, supp: 0.001, lift: 1.075, conv: 1.014)\n",
      "====================================================================================================\n",
      "{pastry, whole milk} -> {yogurt} (conf: 0.093, supp: 0.001, lift: 1.080, conv: 1.008)\n",
      "====================================================================================================\n",
      "{rolls/buns, yogurt} -> {whole milk} (conf: 0.171, supp: 0.001, lift: 1.082, conv: 1.016)\n",
      "====================================================================================================\n",
      "{brown bread, whole milk} -> {rolls/buns} (conf: 0.119, supp: 0.001, lift: 1.085, conv: 1.011)\n",
      "====================================================================================================\n",
      "{soda, whole milk} -> {shopping bags} (conf: 0.052, supp: 0.001, lift: 1.087, conv: 1.004)\n",
      "====================================================================================================\n",
      "{citrus fruit, whole milk} -> {yogurt} (conf: 0.093, supp: 0.001, lift: 1.088, conv: 1.008)\n",
      "====================================================================================================\n",
      "{whole milk, yogurt} -> {rolls/buns} (conf: 0.120, supp: 0.001, lift: 1.089, conv: 1.011)\n",
      "====================================================================================================\n",
      "{whole milk, yogurt} -> {pip fruit} (conf: 0.054, supp: 0.001, lift: 1.099, conv: 1.005)\n",
      "====================================================================================================\n",
      "{other vegetables, rolls/buns} -> {soda} (conf: 0.108, supp: 0.001, lift: 1.108, conv: 1.012)\n",
      "====================================================================================================\n",
      "{pastry, rolls/buns} -> {other vegetables} (conf: 0.136, supp: 0.001, lift: 1.110, conv: 1.016)\n",
      "====================================================================================================\n",
      "{rolls/buns, whole milk} -> {yogurt} (conf: 0.096, supp: 0.001, lift: 1.114, conv: 1.011)\n",
      "====================================================================================================\n",
      "{whole milk, yogurt} -> {citrus fruit} (conf: 0.060, supp: 0.001, lift: 1.127, conv: 1.007)\n",
      "====================================================================================================\n",
      "{tropical fruit, whole milk} -> {yogurt} (conf: 0.098, supp: 0.001, lift: 1.136, conv: 1.013)\n",
      "====================================================================================================\n",
      "{soda, whole milk} -> {bottled water} (conf: 0.069, supp: 0.001, lift: 1.136, conv: 1.009)\n",
      "====================================================================================================\n",
      "{sausage, soda} -> {whole milk} (conf: 0.180, supp: 0.001, lift: 1.138, conv: 1.027)\n",
      "====================================================================================================\n",
      "{other vegetables, soda} -> {sausage} (conf: 0.069, supp: 0.001, lift: 1.143, conv: 1.009)\n",
      "====================================================================================================\n",
      "{other vegetables, sausage} -> {soda} (conf: 0.111, supp: 0.001, lift: 1.144, conv: 1.016)\n",
      "====================================================================================================\n",
      "{rolls/buns, soda} -> {other vegetables} (conf: 0.140, supp: 0.001, lift: 1.151, conv: 1.021)\n",
      "====================================================================================================\n",
      "{other vegetables, pastry} -> {whole milk} (conf: 0.182, supp: 0.001, lift: 1.151, conv: 1.029)\n",
      "====================================================================================================\n",
      "{sausage, whole milk} -> {rolls/buns} (conf: 0.127, supp: 0.001, lift: 1.153, conv: 1.019)\n",
      "====================================================================================================\n",
      "{bottled water, whole milk} -> {soda} (conf: 0.112, supp: 0.001, lift: 1.155, conv: 1.017)\n",
      "====================================================================================================\n",
      "{root vegetables, whole milk} -> {bottled water} (conf: 0.071, supp: 0.001, lift: 1.167, conv: 1.011)\n",
      "====================================================================================================\n",
      "{root vegetables, whole milk} -> {sausage} (conf: 0.071, supp: 0.001, lift: 1.173, conv: 1.011)\n",
      "====================================================================================================\n",
      "{pastry, rolls/buns} -> {whole milk} (conf: 0.186, supp: 0.001, lift: 1.181, conv: 1.035)\n",
      "====================================================================================================\n",
      "{frankfurter, rolls/buns} -> {other vegetables} (conf: 0.145, supp: 0.001, lift: 1.191, conv: 1.027)\n",
      "====================================================================================================\n",
      "{sausage, yogurt} -> {soda} (conf: 0.116, supp: 0.001, lift: 1.197, conv: 1.022)\n",
      "====================================================================================================\n",
      "{beef, other vegetables} -> {whole milk} (conf: 0.190, supp: 0.001, lift: 1.206, conv: 1.040)\n",
      "====================================================================================================\n",
      "{sausage, whole milk} -> {soda} (conf: 0.119, supp: 0.001, lift: 1.230, conv: 1.025)\n",
      "====================================================================================================\n",
      "{fruit/vegetable juice, whole milk} -> {rolls/buns} (conf: 0.136, supp: 0.001, lift: 1.240, conv: 1.031)\n",
      "====================================================================================================\n",
      "{frankfurter, whole milk} -> {other vegetables} (conf: 0.152, supp: 0.001, lift: 1.244, conv: 1.035)\n",
      "====================================================================================================\n",
      "{newspapers, whole milk} -> {yogurt} (conf: 0.107, supp: 0.001, lift: 1.248, conv: 1.024)\n",
      "====================================================================================================\n",
      "{rolls/buns, yogurt} -> {sausage} (conf: 0.077, supp: 0.001, lift: 1.275, conv: 1.018)\n",
      "====================================================================================================\n",
      "{rolls/buns, sausage} -> {soda} (conf: 0.125, supp: 0.001, lift: 1.287, conv: 1.032)\n",
      "====================================================================================================\n",
      "{other vegetables, white bread} -> {whole milk} (conf: 0.205, supp: 0.001, lift: 1.299, conv: 1.059)\n",
      "====================================================================================================\n",
      "{margarine, soda} -> {whole milk} (conf: 0.205, supp: 0.001, lift: 1.299, conv: 1.059)\n",
      "====================================================================================================\n",
      "{sausage, soda} -> {yogurt} (conf: 0.112, supp: 0.001, lift: 1.308, conv: 1.030)\n",
      "====================================================================================================\n",
      "{rolls/buns, sausage} -> {yogurt} (conf: 0.113, supp: 0.001, lift: 1.310, conv: 1.030)\n",
      "====================================================================================================\n",
      "{curd, whole milk} -> {rolls/buns} (conf: 0.145, supp: 0.001, lift: 1.320, conv: 1.041)\n",
      "====================================================================================================\n",
      "{other vegetables, pastry} -> {rolls/buns} (conf: 0.145, supp: 0.001, lift: 1.322, conv: 1.041)\n",
      "====================================================================================================\n",
      "{newspapers, yogurt} -> {whole milk} (conf: 0.209, supp: 0.001, lift: 1.325, conv: 1.065)\n",
      "====================================================================================================\n",
      "{other vegetables, rolls/buns} -> {frankfurter} (conf: 0.051, supp: 0.001, lift: 1.341, conv: 1.014)\n",
      "====================================================================================================\n",
      "{rolls/buns, sausage} -> {whole milk} (conf: 0.212, supp: 0.001, lift: 1.346, conv: 1.069)\n",
      "====================================================================================================\n",
      "{rolls/buns, whole milk} -> {sausage} (conf: 0.081, supp: 0.001, lift: 1.348, conv: 1.023)\n",
      "====================================================================================================\n",
      "{margarine, whole milk} -> {soda} (conf: 0.131, supp: 0.001, lift: 1.351, conv: 1.039)\n",
      "====================================================================================================\n",
      "{rolls/buns, soda} -> {sausage} (conf: 0.083, supp: 0.001, lift: 1.369, conv: 1.024)\n",
      "====================================================================================================\n",
      "{shopping bags, soda} -> {rolls/buns} (conf: 0.152, supp: 0.001, lift: 1.377, conv: 1.049)\n",
      "====================================================================================================\n",
      "{whole milk, yogurt} -> {newspapers} (conf: 0.054, supp: 0.001, lift: 1.386, conv: 1.016)\n",
      "====================================================================================================\n",
      "{curd, rolls/buns} -> {whole milk} (conf: 0.220, supp: 0.001, lift: 1.390, conv: 1.079)\n",
      "====================================================================================================\n",
      "{white bread, whole milk} -> {other vegetables} (conf: 0.170, supp: 0.001, lift: 1.394, conv: 1.058)\n",
      "====================================================================================================\n",
      "{other vegetables, yogurt} -> {citrus fruit} (conf: 0.074, supp: 0.001, lift: 1.400, conv: 1.023)\n",
      "====================================================================================================\n",
      "{other vegetables, sausage} -> {rolls/buns} (conf: 0.156, supp: 0.001, lift: 1.414, conv: 1.054)\n",
      "====================================================================================================\n",
      "{rolls/buns, tropical fruit} -> {root vegetables} (conf: 0.099, supp: 0.001, lift: 1.422, conv: 1.033)\n",
      "====================================================================================================\n",
      "{other vegetables, whole milk} -> {frankfurter} (conf: 0.054, supp: 0.001, lift: 1.432, conv: 1.017)\n",
      "====================================================================================================\n",
      "{rolls/buns, sausage} -> {other vegetables} (conf: 0.175, supp: 0.001, lift: 1.433, conv: 1.064)\n",
      "====================================================================================================\n",
      "{rolls/buns, shopping bags} -> {soda} (conf: 0.141, supp: 0.001, lift: 1.450, conv: 1.051)\n",
      "====================================================================================================\n",
      "{pastry, sausage} -> {whole milk} (conf: 0.229, supp: 0.001, lift: 1.451, conv: 1.092)\n",
      "====================================================================================================\n",
      "{pastry, soda} -> {whole milk} (conf: 0.230, supp: 0.001, lift: 1.453, conv: 1.093)\n",
      "====================================================================================================\n",
      "{sausage, soda} -> {root vegetables} (conf: 0.101, supp: 0.001, lift: 1.454, conv: 1.035)\n",
      "====================================================================================================\n",
      "{citrus fruit, other vegetables} -> {yogurt} (conf: 0.125, supp: 0.001, lift: 1.456, conv: 1.045)\n",
      "====================================================================================================\n",
      "{other vegetables, rolls/buns} -> {sausage} (conf: 0.089, supp: 0.001, lift: 1.468, conv: 1.031)\n",
      "====================================================================================================\n",
      "{other vegetables, sausage} -> {tropical fruit} (conf: 0.100, supp: 0.001, lift: 1.476, conv: 1.036)\n",
      "====================================================================================================\n",
      "{pastry, whole milk} -> {soda} (conf: 0.144, supp: 0.001, lift: 1.486, conv: 1.055)\n",
      "====================================================================================================\n",
      "{root vegetables, tropical fruit} -> {rolls/buns} (conf: 0.164, supp: 0.001, lift: 1.488, conv: 1.064)\n",
      "====================================================================================================\n",
      "{soda, whole milk} -> {sausage} (conf: 0.092, supp: 0.001, lift: 1.524, conv: 1.035)\n",
      "====================================================================================================\n",
      "{rolls/buns, root vegetables} -> {tropical fruit} (conf: 0.105, supp: 0.001, lift: 1.544, conv: 1.041)\n",
      "====================================================================================================\n",
      "{soda, whole milk} -> {pastry} (conf: 0.080, supp: 0.001, lift: 1.555, conv: 1.031)\n",
      "====================================================================================================\n",
      "{other vegetables, tropical fruit} -> {sausage} (conf: 0.096, supp: 0.001, lift: 1.587, conv: 1.039)\n",
      "====================================================================================================\n",
      "{sausage, whole milk} -> {pastry} (conf: 0.082, supp: 0.001, lift: 1.587, conv: 1.033)\n",
      "====================================================================================================\n",
      "{sausage, tropical fruit} -> {other vegetables} (conf: 0.196, supp: 0.001, lift: 1.602, conv: 1.091)\n",
      "====================================================================================================\n",
      "{sausage, yogurt} -> {whole milk} (conf: 0.256, supp: 0.001, lift: 1.620, conv: 1.132)\n",
      "====================================================================================================\n",
      "{rolls/buns, tropical fruit} -> {sausage} (conf: 0.099, supp: 0.001, lift: 1.639, conv: 1.043)\n",
      "====================================================================================================\n",
      "{rolls/buns, sausage} -> {tropical fruit} (conf: 0.113, supp: 0.001, lift: 1.660, conv: 1.050)\n",
      "====================================================================================================\n",
      "{pastry, sausage} -> {soda} (conf: 0.167, supp: 0.001, lift: 1.716, conv: 1.083)\n",
      "====================================================================================================\n",
      "{rolls/buns, soda} -> {shopping bags} (conf: 0.083, supp: 0.001, lift: 1.737, conv: 1.038)\n",
      "====================================================================================================\n",
      "{sausage, soda} -> {pastry} (conf: 0.090, supp: 0.001, lift: 1.738, conv: 1.042)\n",
      "====================================================================================================\n",
      "{white bread, whole milk} -> {rolls/buns} (conf: 0.191, supp: 0.001, lift: 1.741, conv: 1.101)\n",
      "====================================================================================================\n",
      "{rolls/buns, yogurt} -> {whipped/sour cream} (conf: 0.077, supp: 0.001, lift: 1.760, conv: 1.036)\n",
      "====================================================================================================\n",
      "{sausage, tropical fruit} -> {rolls/buns} (conf: 0.196, supp: 0.001, lift: 1.779, conv: 1.106)\n",
      "====================================================================================================\n",
      "{rolls/buns, white bread} -> {whole milk} (conf: 0.281, supp: 0.001, lift: 1.781, conv: 1.172)\n",
      "====================================================================================================\n",
      "{other vegetables, shopping bags} -> {sausage} (conf: 0.108, supp: 0.001, lift: 1.791, conv: 1.054)\n",
      "====================================================================================================\n",
      "{sausage, whole milk} -> {pork} (conf: 0.067, supp: 0.001, lift: 1.811, conv: 1.032)\n",
      "====================================================================================================\n",
      "{root vegetables, sausage} -> {soda} (conf: 0.180, supp: 0.001, lift: 1.854, conv: 1.101)\n",
      "====================================================================================================\n",
      "{whipped/sour cream, yogurt} -> {rolls/buns} (conf: 0.205, supp: 0.001, lift: 1.859, conv: 1.119)\n",
      "====================================================================================================\n",
      "{other vegetables, sausage} -> {shopping bags} (conf: 0.089, supp: 0.001, lift: 1.868, conv: 1.045)\n",
      "====================================================================================================\n",
      "{pastry, whole milk} -> {sausage} (conf: 0.113, supp: 0.001, lift: 1.879, conv: 1.060)\n",
      "====================================================================================================\n",
      "{root vegetables, soda} -> {sausage} (conf: 0.114, supp: 0.001, lift: 1.888, conv: 1.060)\n",
      "====================================================================================================\n",
      "{soda, yogurt} -> {sausage} (conf: 0.115, supp: 0.001, lift: 1.905, conv: 1.062)\n",
      "====================================================================================================\n",
      "{sausage, whole milk} -> {yogurt} (conf: 0.164, supp: 0.001, lift: 1.912, conv: 1.094)\n",
      "====================================================================================================\n",
      "{pork, whole milk} -> {sausage} (conf: 0.120, supp: 0.001, lift: 1.988, conv: 1.068)\n",
      "====================================================================================================\n",
      "{pastry, soda} -> {sausage} (conf: 0.131, supp: 0.001, lift: 2.173, conv: 1.081)\n",
      "====================================================================================================\n",
      "{whole milk, yogurt} -> {sausage} (conf: 0.132, supp: 0.001, lift: 2.183, conv: 1.082)\n",
      "====================================================================================================\n",
      "{sausage, shopping bags} -> {other vegetables} (conf: 0.276, supp: 0.001, lift: 2.259, conv: 1.212)\n",
      "====================================================================================================\n",
      "{rolls/buns, whipped/sour cream} -> {yogurt} (conf: 0.205, supp: 0.001, lift: 2.382, conv: 1.149)\n",
      "====================================================================================================\n",
      "{pork, sausage} -> {whole milk} (conf: 0.391, supp: 0.001, lift: 2.478, conv: 1.383)\n",
      "====================================================================================================\n"
     ]
    }
   ],
   "source": [
    "rules_rhs = filter(lambda rule: len(rule.lhs) == 2 and len(rule.rhs) == 1, rules)\n",
    "for rule in sorted(rules_rhs, key=lambda rule: rule.lift):\n",
    "    print(rule) # Prints the rule and its confidence, support, lift\n",
    "    print(\"=\"*100)"
   ]
  },
  {
   "cell_type": "code",
   "execution_count": 227,
   "id": "0c9bb29c",
   "metadata": {
    "scrolled": true
   },
   "outputs": [],
   "source": [
    "from mlxtend.preprocessing import TransactionEncoder"
   ]
  },
  {
   "cell_type": "code",
   "execution_count": 228,
   "id": "fab250e0",
   "metadata": {},
   "outputs": [
    {
     "data": {
      "text/html": [
       "<div>\n",
       "<style scoped>\n",
       "    .dataframe tbody tr th:only-of-type {\n",
       "        vertical-align: middle;\n",
       "    }\n",
       "\n",
       "    .dataframe tbody tr th {\n",
       "        vertical-align: top;\n",
       "    }\n",
       "\n",
       "    .dataframe thead th {\n",
       "        text-align: right;\n",
       "    }\n",
       "</style>\n",
       "<table border=\"1\" class=\"dataframe\">\n",
       "  <thead>\n",
       "    <tr style=\"text-align: right;\">\n",
       "      <th></th>\n",
       "      <th>Instant food products</th>\n",
       "      <th>UHT-milk</th>\n",
       "      <th>abrasive cleaner</th>\n",
       "      <th>artif. sweetener</th>\n",
       "      <th>baby cosmetics</th>\n",
       "      <th>bags</th>\n",
       "      <th>baking powder</th>\n",
       "      <th>bathroom cleaner</th>\n",
       "      <th>beef</th>\n",
       "      <th>berries</th>\n",
       "      <th>...</th>\n",
       "      <th>turkey</th>\n",
       "      <th>vinegar</th>\n",
       "      <th>waffles</th>\n",
       "      <th>whipped/sour cream</th>\n",
       "      <th>whisky</th>\n",
       "      <th>white bread</th>\n",
       "      <th>white wine</th>\n",
       "      <th>whole milk</th>\n",
       "      <th>yogurt</th>\n",
       "      <th>zwieback</th>\n",
       "    </tr>\n",
       "  </thead>\n",
       "  <tbody>\n",
       "    <tr>\n",
       "      <th>0</th>\n",
       "      <td>False</td>\n",
       "      <td>False</td>\n",
       "      <td>False</td>\n",
       "      <td>False</td>\n",
       "      <td>False</td>\n",
       "      <td>False</td>\n",
       "      <td>False</td>\n",
       "      <td>False</td>\n",
       "      <td>False</td>\n",
       "      <td>False</td>\n",
       "      <td>...</td>\n",
       "      <td>False</td>\n",
       "      <td>False</td>\n",
       "      <td>False</td>\n",
       "      <td>False</td>\n",
       "      <td>False</td>\n",
       "      <td>False</td>\n",
       "      <td>False</td>\n",
       "      <td>True</td>\n",
       "      <td>True</td>\n",
       "      <td>False</td>\n",
       "    </tr>\n",
       "    <tr>\n",
       "      <th>1</th>\n",
       "      <td>False</td>\n",
       "      <td>False</td>\n",
       "      <td>False</td>\n",
       "      <td>False</td>\n",
       "      <td>False</td>\n",
       "      <td>False</td>\n",
       "      <td>False</td>\n",
       "      <td>False</td>\n",
       "      <td>False</td>\n",
       "      <td>False</td>\n",
       "      <td>...</td>\n",
       "      <td>False</td>\n",
       "      <td>False</td>\n",
       "      <td>False</td>\n",
       "      <td>False</td>\n",
       "      <td>False</td>\n",
       "      <td>False</td>\n",
       "      <td>False</td>\n",
       "      <td>True</td>\n",
       "      <td>False</td>\n",
       "      <td>False</td>\n",
       "    </tr>\n",
       "    <tr>\n",
       "      <th>2</th>\n",
       "      <td>False</td>\n",
       "      <td>False</td>\n",
       "      <td>False</td>\n",
       "      <td>False</td>\n",
       "      <td>False</td>\n",
       "      <td>False</td>\n",
       "      <td>False</td>\n",
       "      <td>False</td>\n",
       "      <td>False</td>\n",
       "      <td>False</td>\n",
       "      <td>...</td>\n",
       "      <td>False</td>\n",
       "      <td>False</td>\n",
       "      <td>False</td>\n",
       "      <td>False</td>\n",
       "      <td>False</td>\n",
       "      <td>False</td>\n",
       "      <td>False</td>\n",
       "      <td>False</td>\n",
       "      <td>False</td>\n",
       "      <td>False</td>\n",
       "    </tr>\n",
       "    <tr>\n",
       "      <th>3</th>\n",
       "      <td>False</td>\n",
       "      <td>False</td>\n",
       "      <td>False</td>\n",
       "      <td>False</td>\n",
       "      <td>False</td>\n",
       "      <td>False</td>\n",
       "      <td>False</td>\n",
       "      <td>False</td>\n",
       "      <td>False</td>\n",
       "      <td>False</td>\n",
       "      <td>...</td>\n",
       "      <td>False</td>\n",
       "      <td>False</td>\n",
       "      <td>False</td>\n",
       "      <td>False</td>\n",
       "      <td>False</td>\n",
       "      <td>False</td>\n",
       "      <td>False</td>\n",
       "      <td>False</td>\n",
       "      <td>False</td>\n",
       "      <td>False</td>\n",
       "    </tr>\n",
       "    <tr>\n",
       "      <th>4</th>\n",
       "      <td>False</td>\n",
       "      <td>False</td>\n",
       "      <td>False</td>\n",
       "      <td>False</td>\n",
       "      <td>False</td>\n",
       "      <td>False</td>\n",
       "      <td>False</td>\n",
       "      <td>False</td>\n",
       "      <td>False</td>\n",
       "      <td>False</td>\n",
       "      <td>...</td>\n",
       "      <td>False</td>\n",
       "      <td>False</td>\n",
       "      <td>False</td>\n",
       "      <td>False</td>\n",
       "      <td>False</td>\n",
       "      <td>False</td>\n",
       "      <td>False</td>\n",
       "      <td>False</td>\n",
       "      <td>False</td>\n",
       "      <td>False</td>\n",
       "    </tr>\n",
       "    <tr>\n",
       "      <th>...</th>\n",
       "      <td>...</td>\n",
       "      <td>...</td>\n",
       "      <td>...</td>\n",
       "      <td>...</td>\n",
       "      <td>...</td>\n",
       "      <td>...</td>\n",
       "      <td>...</td>\n",
       "      <td>...</td>\n",
       "      <td>...</td>\n",
       "      <td>...</td>\n",
       "      <td>...</td>\n",
       "      <td>...</td>\n",
       "      <td>...</td>\n",
       "      <td>...</td>\n",
       "      <td>...</td>\n",
       "      <td>...</td>\n",
       "      <td>...</td>\n",
       "      <td>...</td>\n",
       "      <td>...</td>\n",
       "      <td>...</td>\n",
       "      <td>...</td>\n",
       "    </tr>\n",
       "    <tr>\n",
       "      <th>14958</th>\n",
       "      <td>False</td>\n",
       "      <td>False</td>\n",
       "      <td>False</td>\n",
       "      <td>False</td>\n",
       "      <td>False</td>\n",
       "      <td>False</td>\n",
       "      <td>False</td>\n",
       "      <td>False</td>\n",
       "      <td>False</td>\n",
       "      <td>True</td>\n",
       "      <td>...</td>\n",
       "      <td>False</td>\n",
       "      <td>False</td>\n",
       "      <td>False</td>\n",
       "      <td>False</td>\n",
       "      <td>False</td>\n",
       "      <td>False</td>\n",
       "      <td>False</td>\n",
       "      <td>False</td>\n",
       "      <td>True</td>\n",
       "      <td>False</td>\n",
       "    </tr>\n",
       "    <tr>\n",
       "      <th>14959</th>\n",
       "      <td>False</td>\n",
       "      <td>False</td>\n",
       "      <td>False</td>\n",
       "      <td>False</td>\n",
       "      <td>False</td>\n",
       "      <td>False</td>\n",
       "      <td>False</td>\n",
       "      <td>False</td>\n",
       "      <td>False</td>\n",
       "      <td>False</td>\n",
       "      <td>...</td>\n",
       "      <td>False</td>\n",
       "      <td>False</td>\n",
       "      <td>False</td>\n",
       "      <td>False</td>\n",
       "      <td>False</td>\n",
       "      <td>False</td>\n",
       "      <td>False</td>\n",
       "      <td>False</td>\n",
       "      <td>False</td>\n",
       "      <td>False</td>\n",
       "    </tr>\n",
       "    <tr>\n",
       "      <th>14960</th>\n",
       "      <td>False</td>\n",
       "      <td>False</td>\n",
       "      <td>False</td>\n",
       "      <td>False</td>\n",
       "      <td>False</td>\n",
       "      <td>False</td>\n",
       "      <td>False</td>\n",
       "      <td>False</td>\n",
       "      <td>False</td>\n",
       "      <td>False</td>\n",
       "      <td>...</td>\n",
       "      <td>False</td>\n",
       "      <td>False</td>\n",
       "      <td>False</td>\n",
       "      <td>False</td>\n",
       "      <td>False</td>\n",
       "      <td>False</td>\n",
       "      <td>False</td>\n",
       "      <td>False</td>\n",
       "      <td>False</td>\n",
       "      <td>False</td>\n",
       "    </tr>\n",
       "    <tr>\n",
       "      <th>14961</th>\n",
       "      <td>False</td>\n",
       "      <td>False</td>\n",
       "      <td>False</td>\n",
       "      <td>False</td>\n",
       "      <td>False</td>\n",
       "      <td>False</td>\n",
       "      <td>False</td>\n",
       "      <td>False</td>\n",
       "      <td>False</td>\n",
       "      <td>False</td>\n",
       "      <td>...</td>\n",
       "      <td>False</td>\n",
       "      <td>False</td>\n",
       "      <td>False</td>\n",
       "      <td>False</td>\n",
       "      <td>False</td>\n",
       "      <td>False</td>\n",
       "      <td>False</td>\n",
       "      <td>False</td>\n",
       "      <td>False</td>\n",
       "      <td>False</td>\n",
       "    </tr>\n",
       "    <tr>\n",
       "      <th>14962</th>\n",
       "      <td>False</td>\n",
       "      <td>False</td>\n",
       "      <td>False</td>\n",
       "      <td>False</td>\n",
       "      <td>False</td>\n",
       "      <td>False</td>\n",
       "      <td>False</td>\n",
       "      <td>False</td>\n",
       "      <td>False</td>\n",
       "      <td>False</td>\n",
       "      <td>...</td>\n",
       "      <td>False</td>\n",
       "      <td>False</td>\n",
       "      <td>False</td>\n",
       "      <td>False</td>\n",
       "      <td>False</td>\n",
       "      <td>False</td>\n",
       "      <td>False</td>\n",
       "      <td>False</td>\n",
       "      <td>False</td>\n",
       "      <td>False</td>\n",
       "    </tr>\n",
       "  </tbody>\n",
       "</table>\n",
       "<p>14963 rows × 167 columns</p>\n",
       "</div>"
      ],
      "text/plain": [
       "       Instant food products  UHT-milk  abrasive cleaner  artif. sweetener  \\\n",
       "0                      False     False             False             False   \n",
       "1                      False     False             False             False   \n",
       "2                      False     False             False             False   \n",
       "3                      False     False             False             False   \n",
       "4                      False     False             False             False   \n",
       "...                      ...       ...               ...               ...   \n",
       "14958                  False     False             False             False   \n",
       "14959                  False     False             False             False   \n",
       "14960                  False     False             False             False   \n",
       "14961                  False     False             False             False   \n",
       "14962                  False     False             False             False   \n",
       "\n",
       "       baby cosmetics   bags  baking powder  bathroom cleaner   beef  berries  \\\n",
       "0               False  False          False             False  False    False   \n",
       "1               False  False          False             False  False    False   \n",
       "2               False  False          False             False  False    False   \n",
       "3               False  False          False             False  False    False   \n",
       "4               False  False          False             False  False    False   \n",
       "...               ...    ...            ...               ...    ...      ...   \n",
       "14958           False  False          False             False  False     True   \n",
       "14959           False  False          False             False  False    False   \n",
       "14960           False  False          False             False  False    False   \n",
       "14961           False  False          False             False  False    False   \n",
       "14962           False  False          False             False  False    False   \n",
       "\n",
       "       ...  turkey  vinegar  waffles  whipped/sour cream  whisky  white bread  \\\n",
       "0      ...   False    False    False               False   False        False   \n",
       "1      ...   False    False    False               False   False        False   \n",
       "2      ...   False    False    False               False   False        False   \n",
       "3      ...   False    False    False               False   False        False   \n",
       "4      ...   False    False    False               False   False        False   \n",
       "...    ...     ...      ...      ...                 ...     ...          ...   \n",
       "14958  ...   False    False    False               False   False        False   \n",
       "14959  ...   False    False    False               False   False        False   \n",
       "14960  ...   False    False    False               False   False        False   \n",
       "14961  ...   False    False    False               False   False        False   \n",
       "14962  ...   False    False    False               False   False        False   \n",
       "\n",
       "       white wine  whole milk  yogurt  zwieback  \n",
       "0           False        True    True     False  \n",
       "1           False        True   False     False  \n",
       "2           False       False   False     False  \n",
       "3           False       False   False     False  \n",
       "4           False       False   False     False  \n",
       "...           ...         ...     ...       ...  \n",
       "14958       False       False    True     False  \n",
       "14959       False       False   False     False  \n",
       "14960       False       False   False     False  \n",
       "14961       False       False   False     False  \n",
       "14962       False       False   False     False  \n",
       "\n",
       "[14963 rows x 167 columns]"
      ]
     },
     "execution_count": 228,
     "metadata": {},
     "output_type": "execute_result"
    }
   ],
   "source": [
    "te = TransactionEncoder()\n",
    "te_ary = te.fit(transactions).transform(transactions)\n",
    "df = pd.DataFrame(te_ary, columns=te.columns_)\n",
    "df"
   ]
  },
  {
   "cell_type": "code",
   "execution_count": 234,
   "id": "83955e9d",
   "metadata": {},
   "outputs": [],
   "source": [
    "from mlxtend.frequent_patterns import apriori\n",
    "frequent_itemsets = apriori(df, min_support=0.0005,use_colnames=True)"
   ]
  },
  {
   "cell_type": "code",
   "execution_count": 235,
   "id": "0028d8e6",
   "metadata": {},
   "outputs": [
    {
     "data": {
      "text/html": [
       "<div>\n",
       "<style scoped>\n",
       "    .dataframe tbody tr th:only-of-type {\n",
       "        vertical-align: middle;\n",
       "    }\n",
       "\n",
       "    .dataframe tbody tr th {\n",
       "        vertical-align: top;\n",
       "    }\n",
       "\n",
       "    .dataframe thead th {\n",
       "        text-align: right;\n",
       "    }\n",
       "</style>\n",
       "<table border=\"1\" class=\"dataframe\">\n",
       "  <thead>\n",
       "    <tr style=\"text-align: right;\">\n",
       "      <th></th>\n",
       "      <th>support</th>\n",
       "      <th>itemsets</th>\n",
       "      <th>length</th>\n",
       "    </tr>\n",
       "  </thead>\n",
       "  <tbody>\n",
       "    <tr>\n",
       "      <th>0</th>\n",
       "      <td>0.004010</td>\n",
       "      <td>(Instant food products)</td>\n",
       "      <td>1</td>\n",
       "    </tr>\n",
       "    <tr>\n",
       "      <th>1</th>\n",
       "      <td>0.021386</td>\n",
       "      <td>(UHT-milk)</td>\n",
       "      <td>1</td>\n",
       "    </tr>\n",
       "    <tr>\n",
       "      <th>2</th>\n",
       "      <td>0.001470</td>\n",
       "      <td>(abrasive cleaner)</td>\n",
       "      <td>1</td>\n",
       "    </tr>\n",
       "    <tr>\n",
       "      <th>3</th>\n",
       "      <td>0.001938</td>\n",
       "      <td>(artif. sweetener)</td>\n",
       "      <td>1</td>\n",
       "    </tr>\n",
       "    <tr>\n",
       "      <th>4</th>\n",
       "      <td>0.008087</td>\n",
       "      <td>(baking powder)</td>\n",
       "      <td>1</td>\n",
       "    </tr>\n",
       "    <tr>\n",
       "      <th>...</th>\n",
       "      <td>...</td>\n",
       "      <td>...</td>\n",
       "      <td>...</td>\n",
       "    </tr>\n",
       "    <tr>\n",
       "      <th>1442</th>\n",
       "      <td>0.000601</td>\n",
       "      <td>(shopping bags, whole milk, soda)</td>\n",
       "      <td>3</td>\n",
       "    </tr>\n",
       "    <tr>\n",
       "      <th>1443</th>\n",
       "      <td>0.000535</td>\n",
       "      <td>(shopping bags, whole milk, yogurt)</td>\n",
       "      <td>3</td>\n",
       "    </tr>\n",
       "    <tr>\n",
       "      <th>1444</th>\n",
       "      <td>0.000668</td>\n",
       "      <td>(whole milk, tropical fruit, soda)</td>\n",
       "      <td>3</td>\n",
       "    </tr>\n",
       "    <tr>\n",
       "      <th>1445</th>\n",
       "      <td>0.000936</td>\n",
       "      <td>(yogurt, whole milk, soda)</td>\n",
       "      <td>3</td>\n",
       "    </tr>\n",
       "    <tr>\n",
       "      <th>1446</th>\n",
       "      <td>0.000802</td>\n",
       "      <td>(yogurt, whole milk, tropical fruit)</td>\n",
       "      <td>3</td>\n",
       "    </tr>\n",
       "  </tbody>\n",
       "</table>\n",
       "<p>1447 rows × 3 columns</p>\n",
       "</div>"
      ],
      "text/plain": [
       "       support                              itemsets  length\n",
       "0     0.004010               (Instant food products)       1\n",
       "1     0.021386                            (UHT-milk)       1\n",
       "2     0.001470                    (abrasive cleaner)       1\n",
       "3     0.001938                    (artif. sweetener)       1\n",
       "4     0.008087                       (baking powder)       1\n",
       "...        ...                                   ...     ...\n",
       "1442  0.000601     (shopping bags, whole milk, soda)       3\n",
       "1443  0.000535   (shopping bags, whole milk, yogurt)       3\n",
       "1444  0.000668    (whole milk, tropical fruit, soda)       3\n",
       "1445  0.000936            (yogurt, whole milk, soda)       3\n",
       "1446  0.000802  (yogurt, whole milk, tropical fruit)       3\n",
       "\n",
       "[1447 rows x 3 columns]"
      ]
     },
     "execution_count": 235,
     "metadata": {},
     "output_type": "execute_result"
    }
   ],
   "source": [
    "frequent_itemsets['length'] = frequent_itemsets['itemsets'].apply(lambda x: len(x))\n",
    "frequent_itemsets"
   ]
  },
  {
   "cell_type": "code",
   "execution_count": null,
   "id": "b0436a4f",
   "metadata": {},
   "outputs": [],
   "source": []
  }
 ],
 "metadata": {
  "hide_input": false,
  "kernelspec": {
   "display_name": "Python 3",
   "language": "python",
   "name": "python3"
  },
  "language_info": {
   "codemirror_mode": {
    "name": "ipython",
    "version": 3
   },
   "file_extension": ".py",
   "mimetype": "text/x-python",
   "name": "python",
   "nbconvert_exporter": "python",
   "pygments_lexer": "ipython3",
   "version": "3.8.8"
  },
  "toc": {
   "base_numbering": 1,
   "nav_menu": {},
   "number_sections": true,
   "sideBar": true,
   "skip_h1_title": false,
   "title_cell": "Table of Contents",
   "title_sidebar": "Contents",
   "toc_cell": false,
   "toc_position": {},
   "toc_section_display": true,
   "toc_window_display": false
  }
 },
 "nbformat": 4,
 "nbformat_minor": 5
}
